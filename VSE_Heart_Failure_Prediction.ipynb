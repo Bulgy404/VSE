{
  "nbformat": 4,
  "nbformat_minor": 0,
  "metadata": {
    "colab": {
      "provenance": [],
      "collapsed_sections": [
        "rOsEYyFdyGgj",
        "k9SwpBaZy8tT",
        "RiX7d3ZMzF8f",
        "qYFQxIQuzJs-",
        "tIMRYWpu2Vh3"
      ]
    },
    "kernelspec": {
      "name": "python3",
      "display_name": "Python 3"
    },
    "language_info": {
      "name": "python"
    },
    "accelerator": "GPU",
    "gpuClass": "standard"
  },
  "cells": [
    {
      "cell_type": "markdown",
      "source": [
        "# Introduction to the subject\n",
        "\n",
        "\n"
      ],
      "metadata": {
        "id": "rOsEYyFdyGgj"
      }
    },
    {
      "cell_type": "markdown",
      "source": [
        "This project assignment is written by Jodine Reitz, Tobias Oldervik, Joppe Busstra, Felix Reinsch and Leonie Henninger for the course \"Essentials of Business Analytics\" at NTNU Trondheim. The purpose of the assignment is to analyze and predict heart failure. We are working with a Kaggle data set called “Heart Fail: Analysis and Quick-prediction”. The data set is based on a paper by the two researchers Davide Chicco and Giuseppe Jurman that states “Machine learning can predict survival of patients with heart failure from serum creatinine and ejection fraction alone”(1).\n",
        "First off, we will describe the data and visualize it. Then, we will perform an analysis and present our results. Finally, we will discuss our solutions and conclusions critically, and point out possible future work or research that can be done.\n",
        "“Cardiovascular disease is a general term for conditions affecting the heart or blood vessels”(2). These are listed as the main death and disability(3). Every year around 17.9 million people die from CVDs, expressed in a percentage they account for 31% of all deaths worldwide. Hence people are interested in what could possibly be done as precautionary measures. However, prior to that it is necessary to discover connections between both genetic factors, as well as certain lifestyles that influence the probability of occurrence.\n",
        "Suffering from Cardiovascular diseases, most people die from heart failure, meaning “the heart is unable to pump blood around the body properly”(4). Many people think that heart failure is a discomfort only old people die from, fatally it “can occur at any age”(5) and even though it cannot be healed, the symptoms might be controlled.\n",
        "The causes are variable and range from coronary heart diseases over high blood pressure to congenital heart disease(6). Since these factors cannot be controlled by the individual itself, it is also important to take a look at “behavioural risk factors”(7) that could lead to heart failure such as smoking or obesity. The dataset at hand “contains [eleven] features that can be used to predict mortality by heart failure”(8): age, anaemia, creatine phosphokinase, diabetes, ejection fraction, high blood pressure, platelets, serum creatinine, serum sodium, sex and smoking.\n",
        "The parameter age refers to the age of the patient. “Aging can cause changes in the heart and blood vessel”(9). Therefore elderly people are at greater risk of developing cardiovascular diseases(10).\n",
        "“Anaemia is a condition in which you lack enough healthy red blood cells [also referred to as haemoglobin] to carry adequate oxygen to your body's tissues”(11). People affected by the disease often feel weak or tired(12).\n",
        "Creatine phosphokinase is an enzyme primarily found in the heart, brain and skeletal muscle(13). The dataset contains information on the level of creatine phosphokinase found in the blood. A high level is a sign for an “injury or stress to muscle tissue, the heart, or the brain”(14). A normal, healthy person has a CPK level of 10 to 120 micrograms per litre(15).\n",
        "The feature diabetes tracks whether the patient suffers from diabetes, also referred to as high blood sugar. Diabetes is a chronic disease where the body is unable to create sufficient insulin or to use it in a proper way leading to a raised glucose level in the blood(16). “Long-term high glucose levels are associated with damage to the body and failure of various organs and tissues”(17). “Over time, high blood sugar can damage blood vessels and the nerves that control your heart”(18). Those concerned are also more likely to suffer from other conditions raising the risk for cardiovascular diseases, for example high blood pressure(19).\n",
        "Measuring ejection fraction expresses how healthy one’s heart is(20). This dataset feature refers to the percentage of blood leaving the heart at each contraction. A normal ejection fraction ranges from 50% upwards, everything below means your heart is not “pumping enough blood and may be failing”(21).\n",
        "The blood pressure changes with your activities(22). Someone is considered to have high blood pressure, also referred to as hypertension, if their blood pressure levels are constantly above average(23). If your blood moves that strongly the force pushing on the walls of your arteries is too strong and hurts them as it leaves tiny tears behind that might turn into scars making it easier for cholesterol and fat to build up causing your vessels to narrow and stiffen(24).\n",
        "“Platelets are [...] cells[ , ] that circulate within our blood and bind together when they recognize damaged blood vessels”(25). The data express the platelets content as kiloplatelets per microlitre, a normal level spans from 150 to 450 whereas a content above this level leads to “spontaneous blood clots”(26) in the body.\n",
        "Serum creatinine is a waste product in energy production in the muscle. It is responsible for filtering waste from your blood. The level of serum creatinine expresses how well your kidneys are functioning(27). To give a normal level one must distinguish between binary genders: a normal level for men is between 0,74 and 1,35 mg/dL and for women between 0,59 and 1,04 mg/dL and should remain constant(28).\n",
        "Serum sodium is an electrolyte that helps balancing the level of acids and bases, the so-called pH balance(29). A low level of serum sodium content lowers the heart rate or condenses the stroke volume, it is defined as anything below 135 mEq/L(30).\n",
        "The data set also differentiates between men and women. Looking at the direct influence of gender on heart failure the “prevalence rate is similar in both sexes”(31).\n",
        "The last feature contained is smoking. Studies showed that smoking accounts for one out of four deaths from cardiovascular diseases and is therefore one of the major causes(32)."
      ],
      "metadata": {
        "id": "dWodaUtZ171g"
      }
    },
    {
      "cell_type": "markdown",
      "source": [
        "(1) Chicco, D. & Jurman, G.\n",
        "\n",
        "(2) Nhs.uk\n",
        "\n",
        "(3) cf. Larxel\n",
        "\n",
        "(4) Jao, G. T. et al.\n",
        "\n",
        "(5) Jao, G. T. et al.\n",
        "\n",
        "(6) cf. Jao, G. T. et al.\n",
        "\n",
        "(7) Larxel\n",
        "\n",
        "(8) Larxel\n",
        "\n",
        "(9) National Institute on Aging\n",
        "\n",
        "(10) cf. National Institute on Aging\n",
        "\n",
        "(11) Mayoclinic\n",
        "\n",
        "(12) cf. Mayo Clinic\n",
        "\n",
        "(13) cf. Mount Sinai Health System\n",
        "\n",
        "(14) Mount Sinai Health System\n",
        "\n",
        "(15) cf. Mount Sinai Health System\n",
        "\n",
        "(16) cf. Idf.org\n",
        "\n",
        "(17) Idf.org\n",
        "\n",
        "(18) CDC\n",
        "\n",
        "(19) cf. CDC\n",
        "\n",
        "(20) cf. Pennmedicine,org\n",
        "\n",
        "(21) Pennemedicine.org\n",
        "\n",
        "(22) cf. CDC\n",
        "\n",
        "(23) cf. DCD\n",
        "\n",
        "(24) cf. DCD\n",
        "\n",
        "(25) Hopkinsmedicine.org\n",
        "\n",
        "(26) Hopkinsmedicine.org\n",
        "\n",
        "(27) cf. Mayoclinic\n",
        "\n",
        "(28) cf. Mayoclini.org\n",
        "\n",
        "(29) cf. Medlineplus.gov\n",
        "\n",
        "(30) cf. Abebe, T. B. et al.\n",
        "\n",
        "(31) Strömberg, A., Martensson, J.\n",
        "\n",
        "(32) cf. Lakier, J. B."
      ],
      "metadata": {
        "id": "6qxLBB9Y1-rC"
      }
    },
    {
      "cell_type": "markdown",
      "source": [
        "# Description of the data"
      ],
      "metadata": {
        "id": "k9SwpBaZy8tT"
      }
    },
    {
      "cell_type": "markdown",
      "source": [
        "For every project it is of crucial importance to have a clear structure. Therefore every cell will be commented and described so that everybody can understand the process when reading the assignment.\n",
        "\n",
        "Firstly all the packages that are going to be used in the assignment will be imported."
      ],
      "metadata": {
        "id": "BmQUrtjl3bTK"
      }
    },
    {
      "cell_type": "code",
      "source": [
        "import pandas as pd\n",
        "import matplotlib.pyplot as plt\n",
        "import numpy as np\n",
        "import seaborn as sns\n",
        "from pylab import *\n",
        "from sklearn.model_selection import train_test_split\n",
        "from sklearn import datasets\n",
        "import statsmodels.api as sm"
      ],
      "metadata": {
        "id": "jE8GajlU3hEg"
      },
      "execution_count": null,
      "outputs": []
    },
    {
      "cell_type": "markdown",
      "source": [
        "The data set we are going to analyze is the heart-failure-clinical-records-dataset from Davide Chicco and Giuseppe Jurman (Chicco, D., Jurman, G. \"Machine learning can predict survival of patients with heart failure from serum creatinine and ejection fraction alone\". BMC Med Inform Decis Mak 20, 16 (2020). https://doi.org/10.1186/s12911-020-1023-5). It can be found on Kaggle under the following link: https://www.kaggle.com/datasets/andrewmvd/heart-failure-clinical-data.\n",
        "The data was lastly updated in 2020.\n"
      ],
      "metadata": {
        "id": "0d5_tqGi4BIA"
      }
    },
    {
      "cell_type": "markdown",
      "source": [
        "We wanted to collaborate on our code in realtime so nobody needs to download and reupload files all the time. The best solution was to use Google CoLab and get access to the csv file via a created GitHub repository. This way, all files regarding the project can be stored entirely online and realtime collaboration is possible."
      ],
      "metadata": {
        "id": "Hzoqk2Ie4IQ2"
      }
    },
    {
      "cell_type": "code",
      "source": [
        "url = 'https://raw.githubusercontent.com/Bulgy404/VSE/main/heart_failure_clinical_records_dataset.csv'\n",
        "data = pd.read_csv(url)\n",
        "print(len(data))\n",
        "data.head()"
      ],
      "metadata": {
        "colab": {
          "base_uri": "https://localhost:8080/",
          "height": 285
        },
        "id": "BKn1N6Ql4MCo",
        "outputId": "810c7fa4-b439-45b2-b3e0-f37347d3c857"
      },
      "execution_count": null,
      "outputs": [
        {
          "output_type": "stream",
          "name": "stdout",
          "text": [
            "299\n"
          ]
        },
        {
          "output_type": "execute_result",
          "data": {
            "text/plain": [
              "    age  anaemia  creatinine_phosphokinase  diabetes  ejection_fraction  \\\n",
              "0  75.0        0                       582         0                 20   \n",
              "1  55.0        0                      7861         0                 38   \n",
              "2  65.0        0                       146         0                 20   \n",
              "3  50.0        1                       111         0                 20   \n",
              "4  65.0        1                       160         1                 20   \n",
              "\n",
              "   high_blood_pressure  platelets  serum_creatinine  serum_sodium  sex  \\\n",
              "0                    1  265000.00               1.9           130    1   \n",
              "1                    0  263358.03               1.1           136    1   \n",
              "2                    0  162000.00               1.3           129    1   \n",
              "3                    0  210000.00               1.9           137    1   \n",
              "4                    0  327000.00               2.7           116    0   \n",
              "\n",
              "   smoking  time  DEATH_EVENT  \n",
              "0        0     4            1  \n",
              "1        0     6            1  \n",
              "2        1     7            1  \n",
              "3        0     7            1  \n",
              "4        0     8            1  "
            ],
            "text/html": [
              "\n",
              "  <div id=\"df-52d91e6e-18b8-4869-908e-959a835b2d39\">\n",
              "    <div class=\"colab-df-container\">\n",
              "      <div>\n",
              "<style scoped>\n",
              "    .dataframe tbody tr th:only-of-type {\n",
              "        vertical-align: middle;\n",
              "    }\n",
              "\n",
              "    .dataframe tbody tr th {\n",
              "        vertical-align: top;\n",
              "    }\n",
              "\n",
              "    .dataframe thead th {\n",
              "        text-align: right;\n",
              "    }\n",
              "</style>\n",
              "<table border=\"1\" class=\"dataframe\">\n",
              "  <thead>\n",
              "    <tr style=\"text-align: right;\">\n",
              "      <th></th>\n",
              "      <th>age</th>\n",
              "      <th>anaemia</th>\n",
              "      <th>creatinine_phosphokinase</th>\n",
              "      <th>diabetes</th>\n",
              "      <th>ejection_fraction</th>\n",
              "      <th>high_blood_pressure</th>\n",
              "      <th>platelets</th>\n",
              "      <th>serum_creatinine</th>\n",
              "      <th>serum_sodium</th>\n",
              "      <th>sex</th>\n",
              "      <th>smoking</th>\n",
              "      <th>time</th>\n",
              "      <th>DEATH_EVENT</th>\n",
              "    </tr>\n",
              "  </thead>\n",
              "  <tbody>\n",
              "    <tr>\n",
              "      <th>0</th>\n",
              "      <td>75.0</td>\n",
              "      <td>0</td>\n",
              "      <td>582</td>\n",
              "      <td>0</td>\n",
              "      <td>20</td>\n",
              "      <td>1</td>\n",
              "      <td>265000.00</td>\n",
              "      <td>1.9</td>\n",
              "      <td>130</td>\n",
              "      <td>1</td>\n",
              "      <td>0</td>\n",
              "      <td>4</td>\n",
              "      <td>1</td>\n",
              "    </tr>\n",
              "    <tr>\n",
              "      <th>1</th>\n",
              "      <td>55.0</td>\n",
              "      <td>0</td>\n",
              "      <td>7861</td>\n",
              "      <td>0</td>\n",
              "      <td>38</td>\n",
              "      <td>0</td>\n",
              "      <td>263358.03</td>\n",
              "      <td>1.1</td>\n",
              "      <td>136</td>\n",
              "      <td>1</td>\n",
              "      <td>0</td>\n",
              "      <td>6</td>\n",
              "      <td>1</td>\n",
              "    </tr>\n",
              "    <tr>\n",
              "      <th>2</th>\n",
              "      <td>65.0</td>\n",
              "      <td>0</td>\n",
              "      <td>146</td>\n",
              "      <td>0</td>\n",
              "      <td>20</td>\n",
              "      <td>0</td>\n",
              "      <td>162000.00</td>\n",
              "      <td>1.3</td>\n",
              "      <td>129</td>\n",
              "      <td>1</td>\n",
              "      <td>1</td>\n",
              "      <td>7</td>\n",
              "      <td>1</td>\n",
              "    </tr>\n",
              "    <tr>\n",
              "      <th>3</th>\n",
              "      <td>50.0</td>\n",
              "      <td>1</td>\n",
              "      <td>111</td>\n",
              "      <td>0</td>\n",
              "      <td>20</td>\n",
              "      <td>0</td>\n",
              "      <td>210000.00</td>\n",
              "      <td>1.9</td>\n",
              "      <td>137</td>\n",
              "      <td>1</td>\n",
              "      <td>0</td>\n",
              "      <td>7</td>\n",
              "      <td>1</td>\n",
              "    </tr>\n",
              "    <tr>\n",
              "      <th>4</th>\n",
              "      <td>65.0</td>\n",
              "      <td>1</td>\n",
              "      <td>160</td>\n",
              "      <td>1</td>\n",
              "      <td>20</td>\n",
              "      <td>0</td>\n",
              "      <td>327000.00</td>\n",
              "      <td>2.7</td>\n",
              "      <td>116</td>\n",
              "      <td>0</td>\n",
              "      <td>0</td>\n",
              "      <td>8</td>\n",
              "      <td>1</td>\n",
              "    </tr>\n",
              "  </tbody>\n",
              "</table>\n",
              "</div>\n",
              "      <button class=\"colab-df-convert\" onclick=\"convertToInteractive('df-52d91e6e-18b8-4869-908e-959a835b2d39')\"\n",
              "              title=\"Convert this dataframe to an interactive table.\"\n",
              "              style=\"display:none;\">\n",
              "        \n",
              "  <svg xmlns=\"http://www.w3.org/2000/svg\" height=\"24px\"viewBox=\"0 0 24 24\"\n",
              "       width=\"24px\">\n",
              "    <path d=\"M0 0h24v24H0V0z\" fill=\"none\"/>\n",
              "    <path d=\"M18.56 5.44l.94 2.06.94-2.06 2.06-.94-2.06-.94-.94-2.06-.94 2.06-2.06.94zm-11 1L8.5 8.5l.94-2.06 2.06-.94-2.06-.94L8.5 2.5l-.94 2.06-2.06.94zm10 10l.94 2.06.94-2.06 2.06-.94-2.06-.94-.94-2.06-.94 2.06-2.06.94z\"/><path d=\"M17.41 7.96l-1.37-1.37c-.4-.4-.92-.59-1.43-.59-.52 0-1.04.2-1.43.59L10.3 9.45l-7.72 7.72c-.78.78-.78 2.05 0 2.83L4 21.41c.39.39.9.59 1.41.59.51 0 1.02-.2 1.41-.59l7.78-7.78 2.81-2.81c.8-.78.8-2.07 0-2.86zM5.41 20L4 18.59l7.72-7.72 1.47 1.35L5.41 20z\"/>\n",
              "  </svg>\n",
              "      </button>\n",
              "      \n",
              "  <style>\n",
              "    .colab-df-container {\n",
              "      display:flex;\n",
              "      flex-wrap:wrap;\n",
              "      gap: 12px;\n",
              "    }\n",
              "\n",
              "    .colab-df-convert {\n",
              "      background-color: #E8F0FE;\n",
              "      border: none;\n",
              "      border-radius: 50%;\n",
              "      cursor: pointer;\n",
              "      display: none;\n",
              "      fill: #1967D2;\n",
              "      height: 32px;\n",
              "      padding: 0 0 0 0;\n",
              "      width: 32px;\n",
              "    }\n",
              "\n",
              "    .colab-df-convert:hover {\n",
              "      background-color: #E2EBFA;\n",
              "      box-shadow: 0px 1px 2px rgba(60, 64, 67, 0.3), 0px 1px 3px 1px rgba(60, 64, 67, 0.15);\n",
              "      fill: #174EA6;\n",
              "    }\n",
              "\n",
              "    [theme=dark] .colab-df-convert {\n",
              "      background-color: #3B4455;\n",
              "      fill: #D2E3FC;\n",
              "    }\n",
              "\n",
              "    [theme=dark] .colab-df-convert:hover {\n",
              "      background-color: #434B5C;\n",
              "      box-shadow: 0px 1px 3px 1px rgba(0, 0, 0, 0.15);\n",
              "      filter: drop-shadow(0px 1px 2px rgba(0, 0, 0, 0.3));\n",
              "      fill: #FFFFFF;\n",
              "    }\n",
              "  </style>\n",
              "\n",
              "      <script>\n",
              "        const buttonEl =\n",
              "          document.querySelector('#df-52d91e6e-18b8-4869-908e-959a835b2d39 button.colab-df-convert');\n",
              "        buttonEl.style.display =\n",
              "          google.colab.kernel.accessAllowed ? 'block' : 'none';\n",
              "\n",
              "        async function convertToInteractive(key) {\n",
              "          const element = document.querySelector('#df-52d91e6e-18b8-4869-908e-959a835b2d39');\n",
              "          const dataTable =\n",
              "            await google.colab.kernel.invokeFunction('convertToInteractive',\n",
              "                                                     [key], {});\n",
              "          if (!dataTable) return;\n",
              "\n",
              "          const docLinkHtml = 'Like what you see? Visit the ' +\n",
              "            '<a target=\"_blank\" href=https://colab.research.google.com/notebooks/data_table.ipynb>data table notebook</a>'\n",
              "            + ' to learn more about interactive tables.';\n",
              "          element.innerHTML = '';\n",
              "          dataTable['output_type'] = 'display_data';\n",
              "          await google.colab.output.renderOutput(dataTable, element);\n",
              "          const docLink = document.createElement('div');\n",
              "          docLink.innerHTML = docLinkHtml;\n",
              "          element.appendChild(docLink);\n",
              "        }\n",
              "      </script>\n",
              "    </div>\n",
              "  </div>\n",
              "  "
            ]
          },
          "metadata": {},
          "execution_count": 3
        }
      ]
    },
    {
      "cell_type": "markdown",
      "source": [
        "Firstly, we should look at all the variables and decide what we are going to analyze and which are the dependent and independent variables."
      ],
      "metadata": {
        "id": "dYjYjxxb4Vi-"
      }
    },
    {
      "cell_type": "code",
      "source": [
        "print(data.dtypes)\n",
        "len(data.dtypes)"
      ],
      "metadata": {
        "colab": {
          "base_uri": "https://localhost:8080/"
        },
        "id": "JI-pi8lc4YUV",
        "outputId": "31100bd1-af90-4242-d953-0a23fbeec509"
      },
      "execution_count": null,
      "outputs": [
        {
          "output_type": "stream",
          "name": "stdout",
          "text": [
            "age                         float64\n",
            "anaemia                       int64\n",
            "creatinine_phosphokinase      int64\n",
            "diabetes                      int64\n",
            "ejection_fraction             int64\n",
            "high_blood_pressure           int64\n",
            "platelets                   float64\n",
            "serum_creatinine            float64\n",
            "serum_sodium                  int64\n",
            "sex                           int64\n",
            "smoking                       int64\n",
            "time                          int64\n",
            "DEATH_EVENT                   int64\n",
            "dtype: object\n"
          ]
        },
        {
          "output_type": "execute_result",
          "data": {
            "text/plain": [
              "13"
            ]
          },
          "metadata": {},
          "execution_count": 4
        }
      ]
    },
    {
      "cell_type": "markdown",
      "source": [
        "Our data contains 13 variables and 299 observations of patients. DEATH_EVENT is our target variable. We want to predict if a patient is dying or not based on the other independent variables. To understand the variables better we need to take a look into the documentation. In the paper by Davide Chicco and Giuseppe Jurman we can find the following table:"
      ],
      "metadata": {
        "id": "OVrVP1dt4d9V"
      }
    },
    {
      "cell_type": "code",
      "source": [
        "data_description_url = 'https://raw.githubusercontent.com/Bulgy404/Assignment_EOBA/main/Description.csv'\n",
        "data_description = pd.read_csv(data_description_url)\n",
        "data_description"
      ],
      "metadata": {
        "colab": {
          "base_uri": "https://localhost:8080/",
          "height": 935
        },
        "id": "a_8e3ddX4teP",
        "outputId": "efff07a2-0003-4730-de97-9cfecbc0ee53"
      },
      "execution_count": null,
      "outputs": [
        {
          "output_type": "execute_result",
          "data": {
            "text/plain": [
              "                     Feature                                      Explanation  \\\n",
              "0                        Age                               Age of the patient   \n",
              "1                    Anaemia        Decrease of red blood cells or hemoglobin   \n",
              "2        High blood pressure                    If a patient has hypertension   \n",
              "3   Creatinine phosphokinase             Level of the CPK enzyme in the blood   \n",
              "4                      (CPK)                                              NaN   \n",
              "5                   Diabetes                      If the patient has diabetes   \n",
              "6          Ejection fraction                      Percentage of blood leaving   \n",
              "7                        NaN                    the heart at each contraction   \n",
              "8                        Sex                                     Woman or man   \n",
              "9                  Platelets                           Platelets in the blood   \n",
              "10          Serum creatinine                 Level of creatinine in the blood   \n",
              "11              Serum sodium                     Level of sodium in the blood   \n",
              "12                   Smoking                            If the patient smokes   \n",
              "13                      Time                                 Follow-up period   \n",
              "14      (target) death event  If the patient died during the follow-up period   \n",
              "\n",
              "         Measurement                Range  \n",
              "0              Years         [40,..., 95]  \n",
              "1            Boolean                 0, 1  \n",
              "2            Boolean                 0, 1  \n",
              "3              mcg/L       [23,..., 7861]  \n",
              "4                NaN                  NaN  \n",
              "5            Boolean                 0, 1  \n",
              "6         Percentage         [14,..., 80]  \n",
              "7                NaN                  NaN  \n",
              "8             Binary                 0, 1  \n",
              "9   kiloplatelets/mL  [25.01,..., 850.00]  \n",
              "10             mg/dL     [0.50,..., 9.40]  \n",
              "11             mEq/L       [114,..., 148]  \n",
              "12           Boolean                 0, 1  \n",
              "13              Days          [4,...,285]  \n",
              "14           Boolean                 0, 1  "
            ],
            "text/html": [
              "\n",
              "  <div id=\"df-6d4bcb80-1ed5-42fd-a7db-bb06052030d3\">\n",
              "    <div class=\"colab-df-container\">\n",
              "      <div>\n",
              "<style scoped>\n",
              "    .dataframe tbody tr th:only-of-type {\n",
              "        vertical-align: middle;\n",
              "    }\n",
              "\n",
              "    .dataframe tbody tr th {\n",
              "        vertical-align: top;\n",
              "    }\n",
              "\n",
              "    .dataframe thead th {\n",
              "        text-align: right;\n",
              "    }\n",
              "</style>\n",
              "<table border=\"1\" class=\"dataframe\">\n",
              "  <thead>\n",
              "    <tr style=\"text-align: right;\">\n",
              "      <th></th>\n",
              "      <th>Feature</th>\n",
              "      <th>Explanation</th>\n",
              "      <th>Measurement</th>\n",
              "      <th>Range</th>\n",
              "    </tr>\n",
              "  </thead>\n",
              "  <tbody>\n",
              "    <tr>\n",
              "      <th>0</th>\n",
              "      <td>Age</td>\n",
              "      <td>Age of the patient</td>\n",
              "      <td>Years</td>\n",
              "      <td>[40,..., 95]</td>\n",
              "    </tr>\n",
              "    <tr>\n",
              "      <th>1</th>\n",
              "      <td>Anaemia</td>\n",
              "      <td>Decrease of red blood cells or hemoglobin</td>\n",
              "      <td>Boolean</td>\n",
              "      <td>0, 1</td>\n",
              "    </tr>\n",
              "    <tr>\n",
              "      <th>2</th>\n",
              "      <td>High blood pressure</td>\n",
              "      <td>If a patient has hypertension</td>\n",
              "      <td>Boolean</td>\n",
              "      <td>0, 1</td>\n",
              "    </tr>\n",
              "    <tr>\n",
              "      <th>3</th>\n",
              "      <td>Creatinine phosphokinase</td>\n",
              "      <td>Level of the CPK enzyme in the blood</td>\n",
              "      <td>mcg/L</td>\n",
              "      <td>[23,..., 7861]</td>\n",
              "    </tr>\n",
              "    <tr>\n",
              "      <th>4</th>\n",
              "      <td>(CPK)</td>\n",
              "      <td>NaN</td>\n",
              "      <td>NaN</td>\n",
              "      <td>NaN</td>\n",
              "    </tr>\n",
              "    <tr>\n",
              "      <th>5</th>\n",
              "      <td>Diabetes</td>\n",
              "      <td>If the patient has diabetes</td>\n",
              "      <td>Boolean</td>\n",
              "      <td>0, 1</td>\n",
              "    </tr>\n",
              "    <tr>\n",
              "      <th>6</th>\n",
              "      <td>Ejection fraction</td>\n",
              "      <td>Percentage of blood leaving</td>\n",
              "      <td>Percentage</td>\n",
              "      <td>[14,..., 80]</td>\n",
              "    </tr>\n",
              "    <tr>\n",
              "      <th>7</th>\n",
              "      <td>NaN</td>\n",
              "      <td>the heart at each contraction</td>\n",
              "      <td>NaN</td>\n",
              "      <td>NaN</td>\n",
              "    </tr>\n",
              "    <tr>\n",
              "      <th>8</th>\n",
              "      <td>Sex</td>\n",
              "      <td>Woman or man</td>\n",
              "      <td>Binary</td>\n",
              "      <td>0, 1</td>\n",
              "    </tr>\n",
              "    <tr>\n",
              "      <th>9</th>\n",
              "      <td>Platelets</td>\n",
              "      <td>Platelets in the blood</td>\n",
              "      <td>kiloplatelets/mL</td>\n",
              "      <td>[25.01,..., 850.00]</td>\n",
              "    </tr>\n",
              "    <tr>\n",
              "      <th>10</th>\n",
              "      <td>Serum creatinine</td>\n",
              "      <td>Level of creatinine in the blood</td>\n",
              "      <td>mg/dL</td>\n",
              "      <td>[0.50,..., 9.40]</td>\n",
              "    </tr>\n",
              "    <tr>\n",
              "      <th>11</th>\n",
              "      <td>Serum sodium</td>\n",
              "      <td>Level of sodium in the blood</td>\n",
              "      <td>mEq/L</td>\n",
              "      <td>[114,..., 148]</td>\n",
              "    </tr>\n",
              "    <tr>\n",
              "      <th>12</th>\n",
              "      <td>Smoking</td>\n",
              "      <td>If the patient smokes</td>\n",
              "      <td>Boolean</td>\n",
              "      <td>0, 1</td>\n",
              "    </tr>\n",
              "    <tr>\n",
              "      <th>13</th>\n",
              "      <td>Time</td>\n",
              "      <td>Follow-up period</td>\n",
              "      <td>Days</td>\n",
              "      <td>[4,...,285]</td>\n",
              "    </tr>\n",
              "    <tr>\n",
              "      <th>14</th>\n",
              "      <td>(target) death event</td>\n",
              "      <td>If the patient died during the follow-up period</td>\n",
              "      <td>Boolean</td>\n",
              "      <td>0, 1</td>\n",
              "    </tr>\n",
              "  </tbody>\n",
              "</table>\n",
              "</div>\n",
              "      <button class=\"colab-df-convert\" onclick=\"convertToInteractive('df-6d4bcb80-1ed5-42fd-a7db-bb06052030d3')\"\n",
              "              title=\"Convert this dataframe to an interactive table.\"\n",
              "              style=\"display:none;\">\n",
              "        \n",
              "  <svg xmlns=\"http://www.w3.org/2000/svg\" height=\"24px\"viewBox=\"0 0 24 24\"\n",
              "       width=\"24px\">\n",
              "    <path d=\"M0 0h24v24H0V0z\" fill=\"none\"/>\n",
              "    <path d=\"M18.56 5.44l.94 2.06.94-2.06 2.06-.94-2.06-.94-.94-2.06-.94 2.06-2.06.94zm-11 1L8.5 8.5l.94-2.06 2.06-.94-2.06-.94L8.5 2.5l-.94 2.06-2.06.94zm10 10l.94 2.06.94-2.06 2.06-.94-2.06-.94-.94-2.06-.94 2.06-2.06.94z\"/><path d=\"M17.41 7.96l-1.37-1.37c-.4-.4-.92-.59-1.43-.59-.52 0-1.04.2-1.43.59L10.3 9.45l-7.72 7.72c-.78.78-.78 2.05 0 2.83L4 21.41c.39.39.9.59 1.41.59.51 0 1.02-.2 1.41-.59l7.78-7.78 2.81-2.81c.8-.78.8-2.07 0-2.86zM5.41 20L4 18.59l7.72-7.72 1.47 1.35L5.41 20z\"/>\n",
              "  </svg>\n",
              "      </button>\n",
              "      \n",
              "  <style>\n",
              "    .colab-df-container {\n",
              "      display:flex;\n",
              "      flex-wrap:wrap;\n",
              "      gap: 12px;\n",
              "    }\n",
              "\n",
              "    .colab-df-convert {\n",
              "      background-color: #E8F0FE;\n",
              "      border: none;\n",
              "      border-radius: 50%;\n",
              "      cursor: pointer;\n",
              "      display: none;\n",
              "      fill: #1967D2;\n",
              "      height: 32px;\n",
              "      padding: 0 0 0 0;\n",
              "      width: 32px;\n",
              "    }\n",
              "\n",
              "    .colab-df-convert:hover {\n",
              "      background-color: #E2EBFA;\n",
              "      box-shadow: 0px 1px 2px rgba(60, 64, 67, 0.3), 0px 1px 3px 1px rgba(60, 64, 67, 0.15);\n",
              "      fill: #174EA6;\n",
              "    }\n",
              "\n",
              "    [theme=dark] .colab-df-convert {\n",
              "      background-color: #3B4455;\n",
              "      fill: #D2E3FC;\n",
              "    }\n",
              "\n",
              "    [theme=dark] .colab-df-convert:hover {\n",
              "      background-color: #434B5C;\n",
              "      box-shadow: 0px 1px 3px 1px rgba(0, 0, 0, 0.15);\n",
              "      filter: drop-shadow(0px 1px 2px rgba(0, 0, 0, 0.3));\n",
              "      fill: #FFFFFF;\n",
              "    }\n",
              "  </style>\n",
              "\n",
              "      <script>\n",
              "        const buttonEl =\n",
              "          document.querySelector('#df-6d4bcb80-1ed5-42fd-a7db-bb06052030d3 button.colab-df-convert');\n",
              "        buttonEl.style.display =\n",
              "          google.colab.kernel.accessAllowed ? 'block' : 'none';\n",
              "\n",
              "        async function convertToInteractive(key) {\n",
              "          const element = document.querySelector('#df-6d4bcb80-1ed5-42fd-a7db-bb06052030d3');\n",
              "          const dataTable =\n",
              "            await google.colab.kernel.invokeFunction('convertToInteractive',\n",
              "                                                     [key], {});\n",
              "          if (!dataTable) return;\n",
              "\n",
              "          const docLinkHtml = 'Like what you see? Visit the ' +\n",
              "            '<a target=\"_blank\" href=https://colab.research.google.com/notebooks/data_table.ipynb>data table notebook</a>'\n",
              "            + ' to learn more about interactive tables.';\n",
              "          element.innerHTML = '';\n",
              "          dataTable['output_type'] = 'display_data';\n",
              "          await google.colab.output.renderOutput(dataTable, element);\n",
              "          const docLink = document.createElement('div');\n",
              "          docLink.innerHTML = docLinkHtml;\n",
              "          element.appendChild(docLink);\n",
              "        }\n",
              "      </script>\n",
              "    </div>\n",
              "  </div>\n",
              "  "
            ]
          },
          "metadata": {},
          "execution_count": 5
        }
      ]
    },
    {
      "cell_type": "markdown",
      "source": [
        "Concluding from that description we should choose 'DEATH_EVENT' as our target variable and the others as our independent variables. The NaN's in the table are a result of transforming the table which was embedded in a PDF, but that is not a problem since we are not working with the description table. Regarding the categorial variables 'anaemia', 'high_blood_pressure', 'diabetes', 'smoking' and our dependent variable 'DEATH_EVENT' a 0 is indicating 'no' and a 1 is indicating 'yes'. In the categorial variable 'sex' a 0 is indicating a male participant and a 1 a female one."
      ],
      "metadata": {
        "id": "-ZSmdwBM5bIp"
      }
    },
    {
      "cell_type": "markdown",
      "source": [
        "# Exploratory data analysis"
      ],
      "metadata": {
        "id": "RiX7d3ZMzF8f"
      }
    },
    {
      "cell_type": "markdown",
      "source": [
        "Now we should check if our data is containing any null-values. If so, we would need to decide how to go on with it i.e. cleaning the data."
      ],
      "metadata": {
        "id": "bxJ-QZde5_s4"
      }
    },
    {
      "cell_type": "code",
      "source": [
        "print(data.info())"
      ],
      "metadata": {
        "colab": {
          "base_uri": "https://localhost:8080/"
        },
        "id": "WNNjLuXT6Dl5",
        "outputId": "248a0049-438f-4864-da66-e9519aab43dd"
      },
      "execution_count": null,
      "outputs": [
        {
          "output_type": "stream",
          "name": "stdout",
          "text": [
            "<class 'pandas.core.frame.DataFrame'>\n",
            "RangeIndex: 299 entries, 0 to 298\n",
            "Data columns (total 13 columns):\n",
            " #   Column                    Non-Null Count  Dtype  \n",
            "---  ------                    --------------  -----  \n",
            " 0   age                       299 non-null    float64\n",
            " 1   anaemia                   299 non-null    int64  \n",
            " 2   creatinine_phosphokinase  299 non-null    int64  \n",
            " 3   diabetes                  299 non-null    int64  \n",
            " 4   ejection_fraction         299 non-null    int64  \n",
            " 5   high_blood_pressure       299 non-null    int64  \n",
            " 6   platelets                 299 non-null    float64\n",
            " 7   serum_creatinine          299 non-null    float64\n",
            " 8   serum_sodium              299 non-null    int64  \n",
            " 9   sex                       299 non-null    int64  \n",
            " 10  smoking                   299 non-null    int64  \n",
            " 11  time                      299 non-null    int64  \n",
            " 12  DEATH_EVENT               299 non-null    int64  \n",
            "dtypes: float64(3), int64(10)\n",
            "memory usage: 30.5 KB\n",
            "None\n"
          ]
        }
      ]
    },
    {
      "cell_type": "markdown",
      "source": [
        "Our data has 299 entries and no null-values, so we do not need to decide how we deal with missing values."
      ],
      "metadata": {
        "id": "pCUYk5Z26NeX"
      }
    },
    {
      "cell_type": "markdown",
      "source": [
        "To explore the data and get a better understanding of it is beneficial to visualize the data. In order to start with the visualization of our data we will plot a histogram of every variable. We are doing this by looping over every column in the data set. An additional \"nice to have\"-feature would be a line in our histogram that is indicating the mean of the variable."
      ],
      "metadata": {
        "id": "fISMBOkI6eQz"
      }
    },
    {
      "cell_type": "code",
      "source": [
        "for i in range(len(data.columns)):\n",
        "  #first we should generate a basic histogram\n",
        "  data.iloc[:, i].hist(bins = 40)\n",
        "  plt.title(data.columns[i])\n",
        "\n",
        "  #now we can add a line to indicate the mean of the variable\n",
        "  mean_val = data.iloc[:, i].mean()\n",
        "  plt.axvline(mean_val, color='red', linestyle='dashed', linewidth=2)\n",
        "\n",
        "  # Add text annotation for mean value\n",
        "  plt.text(mean_val, plt.ylim()[1]*0.9, f'Mean = {mean_val:.2f}', ha='center', va='top', color='red')\n",
        "\n",
        "  plt.show()\n"
      ],
      "metadata": {
        "colab": {
          "base_uri": "https://localhost:8080/",
          "height": 258
        },
        "id": "6L1igxovp0-T",
        "outputId": "ffdac0ef-0e18-4442-9ae8-cec23b59049d"
      },
      "execution_count": null,
      "outputs": [
        {
          "output_type": "display_data",
          "data": {
            "text/plain": [
              "<Figure size 432x288 with 1 Axes>"
            ],
            "image/png": "[encoded data removed]"
          },
          "metadata": {
            "needs_background": "light"
          }
        },
        {
          "output_type": "display_data",
          "data": {
            "text/plain": [
              "<Figure size 432x288 with 1 Axes>"
            ],
            "image/png": "[encoded data removed]"
          },
          "metadata": {
            "needs_background": "light"
          }
        },
        {
          "output_type": "display_data",
          "data": {
            "text/plain": [
              "<Figure size 432x288 with 1 Axes>"
            ],
            "image/png": "[encoded data removed]"
          },
          "metadata": {
            "needs_background": "light"
          }
        },
        {
          "output_type": "display_data",
          "data": {
            "text/plain": [
              "<Figure size 432x288 with 1 Axes>"
            ],
            "image/png": "[encoded data removed]"
          },
          "metadata": {
            "needs_background": "light"
          }
        },
        {
          "output_type": "display_data",
          "data": {
            "text/plain": [
              "<Figure size 432x288 with 1 Axes>"
            ],
            "image/png": "[encoded data removed]"
          },
          "metadata": {
            "needs_background": "light"
          }
        },
        {
          "output_type": "display_data",
          "data": {
            "text/plain": [
              "<Figure size 432x288 with 1 Axes>"
            ],
            "image/png": "[encoded data removed]"
          },
          "metadata": {
            "needs_background": "light"
          }
        },
        {
          "output_type": "display_data",
          "data": {
            "text/plain": [
              "<Figure size 432x288 with 1 Axes>"
            ],
            "image/png": "[encoded data removed]"
          },
          "metadata": {
            "needs_background": "light"
          }
        },
        {
          "output_type": "display_data",
          "data": {
            "text/plain": [
              "<Figure size 432x288 with 1 Axes>"
            ],
            "image/png": "[encoded data removed]"
          },
          "metadata": {
            "needs_background": "light"
          }
        },
        {
          "output_type": "display_data",
          "data": {
            "text/plain": [
              "<Figure size 432x288 with 1 Axes>"
            ],
            "image/png": "[encoded data removed]"
          },
          "metadata": {
            "needs_background": "light"
          }
        },
        {
          "output_type": "display_data",
          "data": {
            "text/plain": [
              "<Figure size 432x288 with 1 Axes>"
            ],
            "image/png": "[encoded data removed]"
          },
          "metadata": {
            "needs_background": "light"
          }
        },
        {
          "output_type": "display_data",
          "data": {
            "text/plain": [
              "<Figure size 432x288 with 1 Axes>"
            ],
            "image/png": "[encoded data removed]"
          },
          "metadata": {
            "needs_background": "light"
          }
        },
        {
          "output_type": "display_data",
          "data": {
            "text/plain": [
              "<Figure size 432x288 with 1 Axes>"
            ],
            "image/png": "[encoded data removed]"
          },
          "metadata": {
            "needs_background": "light"
          }
        },
        {
          "output_type": "display_data",
          "data": {
            "text/plain": [
              "<Figure size 432x288 with 1 Axes>"
            ],
            "image/png": "[encoded data removed]"
          },
          "metadata": {
            "needs_background": "light"
          }
        }
      ]
    },
    {
      "cell_type": "markdown",
      "source": [
        "The benefit of distributing the categorial variables into more than 2 bins is that we can make a suggestion about the direction the mean is going in. For example we can conclude that in our data set there are a bit more than 60% women. \n",
        "Furthermore we can see that:\n",
        "- the mean age is about 61\n",
        "- we have more persons without anaemia than with\n",
        "- 'creatinine_phosphokinase' has a wide range but the mean is relatively close to the left boundary. That means we have some outliers, so a boxplot could be helpful here\n",
        "- we have more persons without diabetes than with\n",
        "- the 'ejection_fraction' mean is a around 40 but we have some outliers \n",
        "- we have more people without a high blood pressure than with\n",
        "- the distribution of platelets is right-skewed                 \n",
        "- the mean of 'serum_creatinine' is 1.39 with some outliers\n",
        "- 'serum_sodium' has a mean of approximately 137              \n",
        "- we have more people that do not smoke than people who do\n",
        "- we cannot draw any conclusions from the 'time' variable\n",
        "- most participants do not die, more accuratly nearly 2/3 of the observed patients did not die\n",
        "\n",
        "In conclusion we can say that for 'age', 'creatinine_phosphokinase', 'ejection_fraction', 'platelets', 'serum_creatinine', and 'serum_sodium' a boxplot could be helpful for further understanding of the data."
      ],
      "metadata": {
        "id": "pNylu900qPPE"
      }
    },
    {
      "cell_type": "code",
      "source": [
        "col_for_boxplot = ['age', 'creatinine_phosphokinase', 'ejection_fraction', 'platelets', 'serum_creatinine', 'serum_sodium']\n",
        "\n",
        "for i in col_for_boxplot:\n",
        "  fig = plt.figure()\n",
        "  fig.suptitle(i, fontsize=14, fontweight='bold')\n",
        "  ax = fig.add_subplot(111)\n",
        "  \n",
        "  ax.boxplot(data[i])\n",
        " \n",
        "  plt.show()"
      ],
      "metadata": {
        "colab": {
          "base_uri": "https://localhost:8080/",
          "height": 139
        },
        "id": "d57GM4cGsQl7",
        "outputId": "34c891ef-80cf-483a-cfb9-c56c4abe64f7"
      },
      "execution_count": null,
      "outputs": [
        {
          "output_type": "display_data",
          "data": {
            "text/plain": [
              "<Figure size 432x288 with 1 Axes>"
            ],
            "image/png": "[encoded data removed]"
          },
          "metadata": {
            "needs_background": "light"
          }
        },
        {
          "output_type": "display_data",
          "data": {
            "text/plain": [
              "<Figure size 432x288 with 1 Axes>"
            ],
            "image/png": "[encoded data removed]"
          },
          "metadata": {
            "needs_background": "light"
          }
        },
        {
          "output_type": "display_data",
          "data": {
            "text/plain": [
              "<Figure size 432x288 with 1 Axes>"
            ],
            "image/png": "[encoded data removed]"
          },
          "metadata": {
            "needs_background": "light"
          }
        },
        {
          "output_type": "display_data",
          "data": {
            "text/plain": [
              "<Figure size 432x288 with 1 Axes>"
            ],
            "image/png": "[encoded data removed]"
          },
          "metadata": {
            "needs_background": "light"
          }
        },
        {
          "output_type": "display_data",
          "data": {
            "text/plain": [
              "<Figure size 432x288 with 1 Axes>"
            ],
            "image/png": "[encoded data removed]"
          },
          "metadata": {
            "needs_background": "light"
          }
        },
        {
          "output_type": "display_data",
          "data": {
            "text/plain": [
              "<Figure size 432x288 with 1 Axes>"
            ],
            "image/png": "[encoded data removed]"
          },
          "metadata": {
            "needs_background": "light"
          }
        }
      ]
    },
    {
      "cell_type": "markdown",
      "source": [
        "Out of these boxplots we can get more information about the structure of the data:\n",
        "- some participants are over 90 years old\n",
        "- the other observed variables differ in an extreme wide range and have a lot of outliers"
      ],
      "metadata": {
        "id": "uKQSKdtsskbX"
      }
    },
    {
      "cell_type": "markdown",
      "source": [
        "Furthermore, it is very helpful to have a look at the way the variables correlate with each other before we go on with the regression models. In order to do so, we are using the pandas correlation matrix in combination with the seaborn heatmap function."
      ],
      "metadata": {
        "id": "MJNsLC8_sold"
      }
    },
    {
      "cell_type": "code",
      "source": [
        "corr_matrix = data.corr()\n",
        "corr_matrix"
      ],
      "metadata": {
        "colab": {
          "base_uri": "https://localhost:8080/",
          "height": 516
        },
        "id": "MZWeyKrpssws",
        "outputId": "db889cc0-a410-44ac-fbee-c09711bcb38d"
      },
      "execution_count": null,
      "outputs": [
        {
          "output_type": "execute_result",
          "data": {
            "text/plain": [
              "                               age   anaemia  creatinine_phosphokinase  \\\n",
              "age                       1.000000  0.088006                 -0.081584   \n",
              "anaemia                   0.088006  1.000000                 -0.190741   \n",
              "creatinine_phosphokinase -0.081584 -0.190741                  1.000000   \n",
              "diabetes                 -0.101012 -0.012729                 -0.009639   \n",
              "ejection_fraction         0.060098  0.031557                 -0.044080   \n",
              "high_blood_pressure       0.093289  0.038182                 -0.070590   \n",
              "platelets                -0.052354 -0.043786                  0.024463   \n",
              "serum_creatinine          0.159187  0.052174                 -0.016408   \n",
              "serum_sodium             -0.045966  0.041882                  0.059550   \n",
              "sex                       0.065430 -0.094769                  0.079791   \n",
              "smoking                   0.018668 -0.107290                  0.002421   \n",
              "time                     -0.224068 -0.141414                 -0.009346   \n",
              "DEATH_EVENT               0.253729  0.066270                  0.062728   \n",
              "\n",
              "                          diabetes  ejection_fraction  high_blood_pressure  \\\n",
              "age                      -0.101012           0.060098             0.093289   \n",
              "anaemia                  -0.012729           0.031557             0.038182   \n",
              "creatinine_phosphokinase -0.009639          -0.044080            -0.070590   \n",
              "diabetes                  1.000000          -0.004850            -0.012732   \n",
              "ejection_fraction        -0.004850           1.000000             0.024445   \n",
              "high_blood_pressure      -0.012732           0.024445             1.000000   \n",
              "platelets                 0.092193           0.072177             0.049963   \n",
              "serum_creatinine         -0.046975          -0.011302            -0.004935   \n",
              "serum_sodium             -0.089551           0.175902             0.037109   \n",
              "sex                      -0.157730          -0.148386            -0.104615   \n",
              "smoking                  -0.147173          -0.067315            -0.055711   \n",
              "time                      0.033726           0.041729            -0.196439   \n",
              "DEATH_EVENT              -0.001943          -0.268603             0.079351   \n",
              "\n",
              "                          platelets  serum_creatinine  serum_sodium       sex  \\\n",
              "age                       -0.052354          0.159187     -0.045966  0.065430   \n",
              "anaemia                   -0.043786          0.052174      0.041882 -0.094769   \n",
              "creatinine_phosphokinase   0.024463         -0.016408      0.059550  0.079791   \n",
              "diabetes                   0.092193         -0.046975     -0.089551 -0.157730   \n",
              "ejection_fraction          0.072177         -0.011302      0.175902 -0.148386   \n",
              "high_blood_pressure        0.049963         -0.004935      0.037109 -0.104615   \n",
              "platelets                  1.000000         -0.041198      0.062125 -0.125120   \n",
              "serum_creatinine          -0.041198          1.000000     -0.189095  0.006970   \n",
              "serum_sodium               0.062125         -0.189095      1.000000 -0.027566   \n",
              "sex                       -0.125120          0.006970     -0.027566  1.000000   \n",
              "smoking                    0.028234         -0.027414      0.004813  0.445892   \n",
              "time                       0.010514         -0.149315      0.087640 -0.015608   \n",
              "DEATH_EVENT               -0.049139          0.294278     -0.195204 -0.004316   \n",
              "\n",
              "                           smoking      time  DEATH_EVENT  \n",
              "age                       0.018668 -0.224068     0.253729  \n",
              "anaemia                  -0.107290 -0.141414     0.066270  \n",
              "creatinine_phosphokinase  0.002421 -0.009346     0.062728  \n",
              "diabetes                 -0.147173  0.033726    -0.001943  \n",
              "ejection_fraction        -0.067315  0.041729    -0.268603  \n",
              "high_blood_pressure      -0.055711 -0.196439     0.079351  \n",
              "platelets                 0.028234  0.010514    -0.049139  \n",
              "serum_creatinine         -0.027414 -0.149315     0.294278  \n",
              "serum_sodium              0.004813  0.087640    -0.195204  \n",
              "sex                       0.445892 -0.015608    -0.004316  \n",
              "smoking                   1.000000 -0.022839    -0.012623  \n",
              "time                     -0.022839  1.000000    -0.526964  \n",
              "DEATH_EVENT              -0.012623 -0.526964     1.000000  "
            ],
            "text/html": [
              "\n",
              "  <div id=\"df-ad2948e1-e0d4-40c2-a15f-992040de37a4\">\n",
              "    <div class=\"colab-df-container\">\n",
              "      <div>\n",
              "<style scoped>\n",
              "    .dataframe tbody tr th:only-of-type {\n",
              "        vertical-align: middle;\n",
              "    }\n",
              "\n",
              "    .dataframe tbody tr th {\n",
              "        vertical-align: top;\n",
              "    }\n",
              "\n",
              "    .dataframe thead th {\n",
              "        text-align: right;\n",
              "    }\n",
              "</style>\n",
              "<table border=\"1\" class=\"dataframe\">\n",
              "  <thead>\n",
              "    <tr style=\"text-align: right;\">\n",
              "      <th></th>\n",
              "      <th>age</th>\n",
              "      <th>anaemia</th>\n",
              "      <th>creatinine_phosphokinase</th>\n",
              "      <th>diabetes</th>\n",
              "      <th>ejection_fraction</th>\n",
              "      <th>high_blood_pressure</th>\n",
              "      <th>platelets</th>\n",
              "      <th>serum_creatinine</th>\n",
              "      <th>serum_sodium</th>\n",
              "      <th>sex</th>\n",
              "      <th>smoking</th>\n",
              "      <th>time</th>\n",
              "      <th>DEATH_EVENT</th>\n",
              "    </tr>\n",
              "  </thead>\n",
              "  <tbody>\n",
              "    <tr>\n",
              "      <th>age</th>\n",
              "      <td>1.000000</td>\n",
              "      <td>0.088006</td>\n",
              "      <td>-0.081584</td>\n",
              "      <td>-0.101012</td>\n",
              "      <td>0.060098</td>\n",
              "      <td>0.093289</td>\n",
              "      <td>-0.052354</td>\n",
              "      <td>0.159187</td>\n",
              "      <td>-0.045966</td>\n",
              "      <td>0.065430</td>\n",
              "      <td>0.018668</td>\n",
              "      <td>-0.224068</td>\n",
              "      <td>0.253729</td>\n",
              "    </tr>\n",
              "    <tr>\n",
              "      <th>anaemia</th>\n",
              "      <td>0.088006</td>\n",
              "      <td>1.000000</td>\n",
              "      <td>-0.190741</td>\n",
              "      <td>-0.012729</td>\n",
              "      <td>0.031557</td>\n",
              "      <td>0.038182</td>\n",
              "      <td>-0.043786</td>\n",
              "      <td>0.052174</td>\n",
              "      <td>0.041882</td>\n",
              "      <td>-0.094769</td>\n",
              "      <td>-0.107290</td>\n",
              "      <td>-0.141414</td>\n",
              "      <td>0.066270</td>\n",
              "    </tr>\n",
              "    <tr>\n",
              "      <th>creatinine_phosphokinase</th>\n",
              "      <td>-0.081584</td>\n",
              "      <td>-0.190741</td>\n",
              "      <td>1.000000</td>\n",
              "      <td>-0.009639</td>\n",
              "      <td>-0.044080</td>\n",
              "      <td>-0.070590</td>\n",
              "      <td>0.024463</td>\n",
              "      <td>-0.016408</td>\n",
              "      <td>0.059550</td>\n",
              "      <td>0.079791</td>\n",
              "      <td>0.002421</td>\n",
              "      <td>-0.009346</td>\n",
              "      <td>0.062728</td>\n",
              "    </tr>\n",
              "    <tr>\n",
              "      <th>diabetes</th>\n",
              "      <td>-0.101012</td>\n",
              "      <td>-0.012729</td>\n",
              "      <td>-0.009639</td>\n",
              "      <td>1.000000</td>\n",
              "      <td>-0.004850</td>\n",
              "      <td>-0.012732</td>\n",
              "      <td>0.092193</td>\n",
              "      <td>-0.046975</td>\n",
              "      <td>-0.089551</td>\n",
              "      <td>-0.157730</td>\n",
              "      <td>-0.147173</td>\n",
              "      <td>0.033726</td>\n",
              "      <td>-0.001943</td>\n",
              "    </tr>\n",
              "    <tr>\n",
              "      <th>ejection_fraction</th>\n",
              "      <td>0.060098</td>\n",
              "      <td>0.031557</td>\n",
              "      <td>-0.044080</td>\n",
              "      <td>-0.004850</td>\n",
              "      <td>1.000000</td>\n",
              "      <td>0.024445</td>\n",
              "      <td>0.072177</td>\n",
              "      <td>-0.011302</td>\n",
              "      <td>0.175902</td>\n",
              "      <td>-0.148386</td>\n",
              "      <td>-0.067315</td>\n",
              "      <td>0.041729</td>\n",
              "      <td>-0.268603</td>\n",
              "    </tr>\n",
              "    <tr>\n",
              "      <th>high_blood_pressure</th>\n",
              "      <td>0.093289</td>\n",
              "      <td>0.038182</td>\n",
              "      <td>-0.070590</td>\n",
              "      <td>-0.012732</td>\n",
              "      <td>0.024445</td>\n",
              "      <td>1.000000</td>\n",
              "      <td>0.049963</td>\n",
              "      <td>-0.004935</td>\n",
              "      <td>0.037109</td>\n",
              "      <td>-0.104615</td>\n",
              "      <td>-0.055711</td>\n",
              "      <td>-0.196439</td>\n",
              "      <td>0.079351</td>\n",
              "    </tr>\n",
              "    <tr>\n",
              "      <th>platelets</th>\n",
              "      <td>-0.052354</td>\n",
              "      <td>-0.043786</td>\n",
              "      <td>0.024463</td>\n",
              "      <td>0.092193</td>\n",
              "      <td>0.072177</td>\n",
              "      <td>0.049963</td>\n",
              "      <td>1.000000</td>\n",
              "      <td>-0.041198</td>\n",
              "      <td>0.062125</td>\n",
              "      <td>-0.125120</td>\n",
              "      <td>0.028234</td>\n",
              "      <td>0.010514</td>\n",
              "      <td>-0.049139</td>\n",
              "    </tr>\n",
              "    <tr>\n",
              "      <th>serum_creatinine</th>\n",
              "      <td>0.159187</td>\n",
              "      <td>0.052174</td>\n",
              "      <td>-0.016408</td>\n",
              "      <td>-0.046975</td>\n",
              "      <td>-0.011302</td>\n",
              "      <td>-0.004935</td>\n",
              "      <td>-0.041198</td>\n",
              "      <td>1.000000</td>\n",
              "      <td>-0.189095</td>\n",
              "      <td>0.006970</td>\n",
              "      <td>-0.027414</td>\n",
              "      <td>-0.149315</td>\n",
              "      <td>0.294278</td>\n",
              "    </tr>\n",
              "    <tr>\n",
              "      <th>serum_sodium</th>\n",
              "      <td>-0.045966</td>\n",
              "      <td>0.041882</td>\n",
              "      <td>0.059550</td>\n",
              "      <td>-0.089551</td>\n",
              "      <td>0.175902</td>\n",
              "      <td>0.037109</td>\n",
              "      <td>0.062125</td>\n",
              "      <td>-0.189095</td>\n",
              "      <td>1.000000</td>\n",
              "      <td>-0.027566</td>\n",
              "      <td>0.004813</td>\n",
              "      <td>0.087640</td>\n",
              "      <td>-0.195204</td>\n",
              "    </tr>\n",
              "    <tr>\n",
              "      <th>sex</th>\n",
              "      <td>0.065430</td>\n",
              "      <td>-0.094769</td>\n",
              "      <td>0.079791</td>\n",
              "      <td>-0.157730</td>\n",
              "      <td>-0.148386</td>\n",
              "      <td>-0.104615</td>\n",
              "      <td>-0.125120</td>\n",
              "      <td>0.006970</td>\n",
              "      <td>-0.027566</td>\n",
              "      <td>1.000000</td>\n",
              "      <td>0.445892</td>\n",
              "      <td>-0.015608</td>\n",
              "      <td>-0.004316</td>\n",
              "    </tr>\n",
              "    <tr>\n",
              "      <th>smoking</th>\n",
              "      <td>0.018668</td>\n",
              "      <td>-0.107290</td>\n",
              "      <td>0.002421</td>\n",
              "      <td>-0.147173</td>\n",
              "      <td>-0.067315</td>\n",
              "      <td>-0.055711</td>\n",
              "      <td>0.028234</td>\n",
              "      <td>-0.027414</td>\n",
              "      <td>0.004813</td>\n",
              "      <td>0.445892</td>\n",
              "      <td>1.000000</td>\n",
              "      <td>-0.022839</td>\n",
              "      <td>-0.012623</td>\n",
              "    </tr>\n",
              "    <tr>\n",
              "      <th>time</th>\n",
              "      <td>-0.224068</td>\n",
              "      <td>-0.141414</td>\n",
              "      <td>-0.009346</td>\n",
              "      <td>0.033726</td>\n",
              "      <td>0.041729</td>\n",
              "      <td>-0.196439</td>\n",
              "      <td>0.010514</td>\n",
              "      <td>-0.149315</td>\n",
              "      <td>0.087640</td>\n",
              "      <td>-0.015608</td>\n",
              "      <td>-0.022839</td>\n",
              "      <td>1.000000</td>\n",
              "      <td>-0.526964</td>\n",
              "    </tr>\n",
              "    <tr>\n",
              "      <th>DEATH_EVENT</th>\n",
              "      <td>0.253729</td>\n",
              "      <td>0.066270</td>\n",
              "      <td>0.062728</td>\n",
              "      <td>-0.001943</td>\n",
              "      <td>-0.268603</td>\n",
              "      <td>0.079351</td>\n",
              "      <td>-0.049139</td>\n",
              "      <td>0.294278</td>\n",
              "      <td>-0.195204</td>\n",
              "      <td>-0.004316</td>\n",
              "      <td>-0.012623</td>\n",
              "      <td>-0.526964</td>\n",
              "      <td>1.000000</td>\n",
              "    </tr>\n",
              "  </tbody>\n",
              "</table>\n",
              "</div>\n",
              "      <button class=\"colab-df-convert\" onclick=\"convertToInteractive('df-ad2948e1-e0d4-40c2-a15f-992040de37a4')\"\n",
              "              title=\"Convert this dataframe to an interactive table.\"\n",
              "              style=\"display:none;\">\n",
              "        \n",
              "  <svg xmlns=\"http://www.w3.org/2000/svg\" height=\"24px\"viewBox=\"0 0 24 24\"\n",
              "       width=\"24px\">\n",
              "    <path d=\"M0 0h24v24H0V0z\" fill=\"none\"/>\n",
              "    <path d=\"M18.56 5.44l.94 2.06.94-2.06 2.06-.94-2.06-.94-.94-2.06-.94 2.06-2.06.94zm-11 1L8.5 8.5l.94-2.06 2.06-.94-2.06-.94L8.5 2.5l-.94 2.06-2.06.94zm10 10l.94 2.06.94-2.06 2.06-.94-2.06-.94-.94-2.06-.94 2.06-2.06.94z\"/><path d=\"M17.41 7.96l-1.37-1.37c-.4-.4-.92-.59-1.43-.59-.52 0-1.04.2-1.43.59L10.3 9.45l-7.72 7.72c-.78.78-.78 2.05 0 2.83L4 21.41c.39.39.9.59 1.41.59.51 0 1.02-.2 1.41-.59l7.78-7.78 2.81-2.81c.8-.78.8-2.07 0-2.86zM5.41 20L4 18.59l7.72-7.72 1.47 1.35L5.41 20z\"/>\n",
              "  </svg>\n",
              "      </button>\n",
              "      \n",
              "  <style>\n",
              "    .colab-df-container {\n",
              "      display:flex;\n",
              "      flex-wrap:wrap;\n",
              "      gap: 12px;\n",
              "    }\n",
              "\n",
              "    .colab-df-convert {\n",
              "      background-color: #E8F0FE;\n",
              "      border: none;\n",
              "      border-radius: 50%;\n",
              "      cursor: pointer;\n",
              "      display: none;\n",
              "      fill: #1967D2;\n",
              "      height: 32px;\n",
              "      padding: 0 0 0 0;\n",
              "      width: 32px;\n",
              "    }\n",
              "\n",
              "    .colab-df-convert:hover {\n",
              "      background-color: #E2EBFA;\n",
              "      box-shadow: 0px 1px 2px rgba(60, 64, 67, 0.3), 0px 1px 3px 1px rgba(60, 64, 67, 0.15);\n",
              "      fill: #174EA6;\n",
              "    }\n",
              "\n",
              "    [theme=dark] .colab-df-convert {\n",
              "      background-color: #3B4455;\n",
              "      fill: #D2E3FC;\n",
              "    }\n",
              "\n",
              "    [theme=dark] .colab-df-convert:hover {\n",
              "      background-color: #434B5C;\n",
              "      box-shadow: 0px 1px 3px 1px rgba(0, 0, 0, 0.15);\n",
              "      filter: drop-shadow(0px 1px 2px rgba(0, 0, 0, 0.3));\n",
              "      fill: #FFFFFF;\n",
              "    }\n",
              "  </style>\n",
              "\n",
              "      <script>\n",
              "        const buttonEl =\n",
              "          document.querySelector('#df-ad2948e1-e0d4-40c2-a15f-992040de37a4 button.colab-df-convert');\n",
              "        buttonEl.style.display =\n",
              "          google.colab.kernel.accessAllowed ? 'block' : 'none';\n",
              "\n",
              "        async function convertToInteractive(key) {\n",
              "          const element = document.querySelector('#df-ad2948e1-e0d4-40c2-a15f-992040de37a4');\n",
              "          const dataTable =\n",
              "            await google.colab.kernel.invokeFunction('convertToInteractive',\n",
              "                                                     [key], {});\n",
              "          if (!dataTable) return;\n",
              "\n",
              "          const docLinkHtml = 'Like what you see? Visit the ' +\n",
              "            '<a target=\"_blank\" href=https://colab.research.google.com/notebooks/data_table.ipynb>data table notebook</a>'\n",
              "            + ' to learn more about interactive tables.';\n",
              "          element.innerHTML = '';\n",
              "          dataTable['output_type'] = 'display_data';\n",
              "          await google.colab.output.renderOutput(dataTable, element);\n",
              "          const docLink = document.createElement('div');\n",
              "          docLink.innerHTML = docLinkHtml;\n",
              "          element.appendChild(docLink);\n",
              "        }\n",
              "      </script>\n",
              "    </div>\n",
              "  </div>\n",
              "  "
            ]
          },
          "metadata": {},
          "execution_count": 9
        }
      ]
    },
    {
      "cell_type": "code",
      "source": [
        "fig, ax = plt.subplots(figsize = (15,15))\n",
        "sns.heatmap(corr_matrix, cmap = 'jet')\n",
        "fig.suptitle('Correlation Heatmap', fontsize = 40, fontweight = 'bold')\n",
        "plt.show()"
      ],
      "metadata": {
        "colab": {
          "base_uri": "https://localhost:8080/",
          "height": 54
        },
        "id": "FHPdTeLqsy2N",
        "outputId": "534a0203-738d-4d3f-9894-968de9243c6f"
      },
      "execution_count": null,
      "outputs": [
        {
          "output_type": "display_data",
          "data": {
            "text/plain": [
              "<Figure size 1080x1080 with 2 Axes>"
            ],
            "image/png": "[encoded data removed]"
          },
          "metadata": {
            "needs_background": "light"
          }
        }
      ]
    },
    {
      "cell_type": "markdown",
      "source": [
        "From that heatmap we can see that our target variable seems to have a slightly positive correlation with the 'age' and the 'serum_creatinine' variable. It is a bit surprising that smoking, diabetes and high blood pressure do not seem to have a high correlation with the target variable. The strongest (negative) correlation appears to be between 'time' and DEATH_EVENT. The negative impact of the \"time\" variable on the \"DEATH_EVENT\" outcome means that as the time from the first measurement increases, the risk of death decreases.\n",
        "Also we can find a negative correlation between the target variable and 'ejection_fraction'."
      ],
      "metadata": {
        "id": "xUa7tOlGtOz1"
      }
    },
    {
      "cell_type": "markdown",
      "source": [
        "Lastly, we want to observe which variables have the highest impact on our target variable."
      ],
      "metadata": {
        "id": "YYCJflhAv7RR"
      }
    },
    {
      "cell_type": "code",
      "source": [
        "corr_matrix['DEATH_EVENT'].abs().sort_values(ascending = False)"
      ],
      "metadata": {
        "colab": {
          "base_uri": "https://localhost:8080/"
        },
        "id": "HKsxuz8Vv9Qk",
        "outputId": "76339a13-83ae-482c-dab1-516477019f05"
      },
      "execution_count": null,
      "outputs": [
        {
          "output_type": "execute_result",
          "data": {
            "text/plain": [
              "DEATH_EVENT                 1.000000\n",
              "time                        0.526964\n",
              "serum_creatinine            0.294278\n",
              "ejection_fraction           0.268603\n",
              "age                         0.253729\n",
              "serum_sodium                0.195204\n",
              "high_blood_pressure         0.079351\n",
              "anaemia                     0.066270\n",
              "creatinine_phosphokinase    0.062728\n",
              "platelets                   0.049139\n",
              "smoking                     0.012623\n",
              "sex                         0.004316\n",
              "diabetes                    0.001943\n",
              "Name: DEATH_EVENT, dtype: float64"
            ]
          },
          "metadata": {},
          "execution_count": 11
        }
      ]
    },
    {
      "cell_type": "markdown",
      "source": [
        "We can conclude that the strongest influence on DEATH_EVENT have the variables 'time', 'serum_creatinine', and 'ejection_fraction'."
      ],
      "metadata": {
        "id": "x4gKe1RLwOVa"
      }
    },
    {
      "cell_type": "markdown",
      "source": [
        "# Data preprocessing"
      ],
      "metadata": {
        "id": "qYFQxIQuzJs-"
      }
    },
    {
      "cell_type": "markdown",
      "source": [
        "Now we want to preprocess the data. As our dataset has no missing values we do not have to deal with this. However, the time variable needs out attention. We discussed if we should include the time variable in our anylsis. We came to the conclusion that it is better to exclude the time variable as we want to focus on the clinical features only and make predictions with them. The time variable is also measured later, after the patient is firstly checked. We however want to make predictions from the medical measures we can take at firstly checking the patient. Also Davide Chicco and Giuseppe Jurman concluded that it is not possible to correlate the survival of patients to the follow-up period. "
      ],
      "metadata": {
        "id": "AsP-PgdpxbQn"
      }
    },
    {
      "cell_type": "code",
      "source": [
        "data.drop(\"time\", axis = 1, inplace = True)\n",
        "data"
      ],
      "metadata": {
        "colab": {
          "base_uri": "https://localhost:8080/",
          "height": 483
        },
        "id": "zE9f-FKZyzdK",
        "outputId": "1aced3b9-c706-4559-fc60-8a89bed72427"
      },
      "execution_count": null,
      "outputs": [
        {
          "output_type": "execute_result",
          "data": {
            "text/plain": [
              "      age  anaemia  creatinine_phosphokinase  diabetes  ejection_fraction  \\\n",
              "0    75.0        0                       582         0                 20   \n",
              "1    55.0        0                      7861         0                 38   \n",
              "2    65.0        0                       146         0                 20   \n",
              "3    50.0        1                       111         0                 20   \n",
              "4    65.0        1                       160         1                 20   \n",
              "..    ...      ...                       ...       ...                ...   \n",
              "294  62.0        0                        61         1                 38   \n",
              "295  55.0        0                      1820         0                 38   \n",
              "296  45.0        0                      2060         1                 60   \n",
              "297  45.0        0                      2413         0                 38   \n",
              "298  50.0        0                       196         0                 45   \n",
              "\n",
              "     high_blood_pressure  platelets  serum_creatinine  serum_sodium  sex  \\\n",
              "0                      1  265000.00               1.9           130    1   \n",
              "1                      0  263358.03               1.1           136    1   \n",
              "2                      0  162000.00               1.3           129    1   \n",
              "3                      0  210000.00               1.9           137    1   \n",
              "4                      0  327000.00               2.7           116    0   \n",
              "..                   ...        ...               ...           ...  ...   \n",
              "294                    1  155000.00               1.1           143    1   \n",
              "295                    0  270000.00               1.2           139    0   \n",
              "296                    0  742000.00               0.8           138    0   \n",
              "297                    0  140000.00               1.4           140    1   \n",
              "298                    0  395000.00               1.6           136    1   \n",
              "\n",
              "     smoking  DEATH_EVENT  \n",
              "0          0            1  \n",
              "1          0            1  \n",
              "2          1            1  \n",
              "3          0            1  \n",
              "4          0            1  \n",
              "..       ...          ...  \n",
              "294        1            0  \n",
              "295        0            0  \n",
              "296        0            0  \n",
              "297        1            0  \n",
              "298        1            0  \n",
              "\n",
              "[299 rows x 12 columns]"
            ],
            "text/html": [
              "\n",
              "  <div id=\"df-facb5e05-b5dd-4936-b1cb-a99b6a491111\">\n",
              "    <div class=\"colab-df-container\">\n",
              "      <div>\n",
              "<style scoped>\n",
              "    .dataframe tbody tr th:only-of-type {\n",
              "        vertical-align: middle;\n",
              "    }\n",
              "\n",
              "    .dataframe tbody tr th {\n",
              "        vertical-align: top;\n",
              "    }\n",
              "\n",
              "    .dataframe thead th {\n",
              "        text-align: right;\n",
              "    }\n",
              "</style>\n",
              "<table border=\"1\" class=\"dataframe\">\n",
              "  <thead>\n",
              "    <tr style=\"text-align: right;\">\n",
              "      <th></th>\n",
              "      <th>age</th>\n",
              "      <th>anaemia</th>\n",
              "      <th>creatinine_phosphokinase</th>\n",
              "      <th>diabetes</th>\n",
              "      <th>ejection_fraction</th>\n",
              "      <th>high_blood_pressure</th>\n",
              "      <th>platelets</th>\n",
              "      <th>serum_creatinine</th>\n",
              "      <th>serum_sodium</th>\n",
              "      <th>sex</th>\n",
              "      <th>smoking</th>\n",
              "      <th>DEATH_EVENT</th>\n",
              "    </tr>\n",
              "  </thead>\n",
              "  <tbody>\n",
              "    <tr>\n",
              "      <th>0</th>\n",
              "      <td>75.0</td>\n",
              "      <td>0</td>\n",
              "      <td>582</td>\n",
              "      <td>0</td>\n",
              "      <td>20</td>\n",
              "      <td>1</td>\n",
              "      <td>265000.00</td>\n",
              "      <td>1.9</td>\n",
              "      <td>130</td>\n",
              "      <td>1</td>\n",
              "      <td>0</td>\n",
              "      <td>1</td>\n",
              "    </tr>\n",
              "    <tr>\n",
              "      <th>1</th>\n",
              "      <td>55.0</td>\n",
              "      <td>0</td>\n",
              "      <td>7861</td>\n",
              "      <td>0</td>\n",
              "      <td>38</td>\n",
              "      <td>0</td>\n",
              "      <td>263358.03</td>\n",
              "      <td>1.1</td>\n",
              "      <td>136</td>\n",
              "      <td>1</td>\n",
              "      <td>0</td>\n",
              "      <td>1</td>\n",
              "    </tr>\n",
              "    <tr>\n",
              "      <th>2</th>\n",
              "      <td>65.0</td>\n",
              "      <td>0</td>\n",
              "      <td>146</td>\n",
              "      <td>0</td>\n",
              "      <td>20</td>\n",
              "      <td>0</td>\n",
              "      <td>162000.00</td>\n",
              "      <td>1.3</td>\n",
              "      <td>129</td>\n",
              "      <td>1</td>\n",
              "      <td>1</td>\n",
              "      <td>1</td>\n",
              "    </tr>\n",
              "    <tr>\n",
              "      <th>3</th>\n",
              "      <td>50.0</td>\n",
              "      <td>1</td>\n",
              "      <td>111</td>\n",
              "      <td>0</td>\n",
              "      <td>20</td>\n",
              "      <td>0</td>\n",
              "      <td>210000.00</td>\n",
              "      <td>1.9</td>\n",
              "      <td>137</td>\n",
              "      <td>1</td>\n",
              "      <td>0</td>\n",
              "      <td>1</td>\n",
              "    </tr>\n",
              "    <tr>\n",
              "      <th>4</th>\n",
              "      <td>65.0</td>\n",
              "      <td>1</td>\n",
              "      <td>160</td>\n",
              "      <td>1</td>\n",
              "      <td>20</td>\n",
              "      <td>0</td>\n",
              "      <td>327000.00</td>\n",
              "      <td>2.7</td>\n",
              "      <td>116</td>\n",
              "      <td>0</td>\n",
              "      <td>0</td>\n",
              "      <td>1</td>\n",
              "    </tr>\n",
              "    <tr>\n",
              "      <th>...</th>\n",
              "      <td>...</td>\n",
              "      <td>...</td>\n",
              "      <td>...</td>\n",
              "      <td>...</td>\n",
              "      <td>...</td>\n",
              "      <td>...</td>\n",
              "      <td>...</td>\n",
              "      <td>...</td>\n",
              "      <td>...</td>\n",
              "      <td>...</td>\n",
              "      <td>...</td>\n",
              "      <td>...</td>\n",
              "    </tr>\n",
              "    <tr>\n",
              "      <th>294</th>\n",
              "      <td>62.0</td>\n",
              "      <td>0</td>\n",
              "      <td>61</td>\n",
              "      <td>1</td>\n",
              "      <td>38</td>\n",
              "      <td>1</td>\n",
              "      <td>155000.00</td>\n",
              "      <td>1.1</td>\n",
              "      <td>143</td>\n",
              "      <td>1</td>\n",
              "      <td>1</td>\n",
              "      <td>0</td>\n",
              "    </tr>\n",
              "    <tr>\n",
              "      <th>295</th>\n",
              "      <td>55.0</td>\n",
              "      <td>0</td>\n",
              "      <td>1820</td>\n",
              "      <td>0</td>\n",
              "      <td>38</td>\n",
              "      <td>0</td>\n",
              "      <td>270000.00</td>\n",
              "      <td>1.2</td>\n",
              "      <td>139</td>\n",
              "      <td>0</td>\n",
              "      <td>0</td>\n",
              "      <td>0</td>\n",
              "    </tr>\n",
              "    <tr>\n",
              "      <th>296</th>\n",
              "      <td>45.0</td>\n",
              "      <td>0</td>\n",
              "      <td>2060</td>\n",
              "      <td>1</td>\n",
              "      <td>60</td>\n",
              "      <td>0</td>\n",
              "      <td>742000.00</td>\n",
              "      <td>0.8</td>\n",
              "      <td>138</td>\n",
              "      <td>0</td>\n",
              "      <td>0</td>\n",
              "      <td>0</td>\n",
              "    </tr>\n",
              "    <tr>\n",
              "      <th>297</th>\n",
              "      <td>45.0</td>\n",
              "      <td>0</td>\n",
              "      <td>2413</td>\n",
              "      <td>0</td>\n",
              "      <td>38</td>\n",
              "      <td>0</td>\n",
              "      <td>140000.00</td>\n",
              "      <td>1.4</td>\n",
              "      <td>140</td>\n",
              "      <td>1</td>\n",
              "      <td>1</td>\n",
              "      <td>0</td>\n",
              "    </tr>\n",
              "    <tr>\n",
              "      <th>298</th>\n",
              "      <td>50.0</td>\n",
              "      <td>0</td>\n",
              "      <td>196</td>\n",
              "      <td>0</td>\n",
              "      <td>45</td>\n",
              "      <td>0</td>\n",
              "      <td>395000.00</td>\n",
              "      <td>1.6</td>\n",
              "      <td>136</td>\n",
              "      <td>1</td>\n",
              "      <td>1</td>\n",
              "      <td>0</td>\n",
              "    </tr>\n",
              "  </tbody>\n",
              "</table>\n",
              "<p>299 rows × 12 columns</p>\n",
              "</div>\n",
              "      <button class=\"colab-df-convert\" onclick=\"convertToInteractive('df-facb5e05-b5dd-4936-b1cb-a99b6a491111')\"\n",
              "              title=\"Convert this dataframe to an interactive table.\"\n",
              "              style=\"display:none;\">\n",
              "        \n",
              "  <svg xmlns=\"http://www.w3.org/2000/svg\" height=\"24px\"viewBox=\"0 0 24 24\"\n",
              "       width=\"24px\">\n",
              "    <path d=\"M0 0h24v24H0V0z\" fill=\"none\"/>\n",
              "    <path d=\"M18.56 5.44l.94 2.06.94-2.06 2.06-.94-2.06-.94-.94-2.06-.94 2.06-2.06.94zm-11 1L8.5 8.5l.94-2.06 2.06-.94-2.06-.94L8.5 2.5l-.94 2.06-2.06.94zm10 10l.94 2.06.94-2.06 2.06-.94-2.06-.94-.94-2.06-.94 2.06-2.06.94z\"/><path d=\"M17.41 7.96l-1.37-1.37c-.4-.4-.92-.59-1.43-.59-.52 0-1.04.2-1.43.59L10.3 9.45l-7.72 7.72c-.78.78-.78 2.05 0 2.83L4 21.41c.39.39.9.59 1.41.59.51 0 1.02-.2 1.41-.59l7.78-7.78 2.81-2.81c.8-.78.8-2.07 0-2.86zM5.41 20L4 18.59l7.72-7.72 1.47 1.35L5.41 20z\"/>\n",
              "  </svg>\n",
              "      </button>\n",
              "      \n",
              "  <style>\n",
              "    .colab-df-container {\n",
              "      display:flex;\n",
              "      flex-wrap:wrap;\n",
              "      gap: 12px;\n",
              "    }\n",
              "\n",
              "    .colab-df-convert {\n",
              "      background-color: #E8F0FE;\n",
              "      border: none;\n",
              "      border-radius: 50%;\n",
              "      cursor: pointer;\n",
              "      display: none;\n",
              "      fill: #1967D2;\n",
              "      height: 32px;\n",
              "      padding: 0 0 0 0;\n",
              "      width: 32px;\n",
              "    }\n",
              "\n",
              "    .colab-df-convert:hover {\n",
              "      background-color: #E2EBFA;\n",
              "      box-shadow: 0px 1px 2px rgba(60, 64, 67, 0.3), 0px 1px 3px 1px rgba(60, 64, 67, 0.15);\n",
              "      fill: #174EA6;\n",
              "    }\n",
              "\n",
              "    [theme=dark] .colab-df-convert {\n",
              "      background-color: #3B4455;\n",
              "      fill: #D2E3FC;\n",
              "    }\n",
              "\n",
              "    [theme=dark] .colab-df-convert:hover {\n",
              "      background-color: #434B5C;\n",
              "      box-shadow: 0px 1px 3px 1px rgba(0, 0, 0, 0.15);\n",
              "      filter: drop-shadow(0px 1px 2px rgba(0, 0, 0, 0.3));\n",
              "      fill: #FFFFFF;\n",
              "    }\n",
              "  </style>\n",
              "\n",
              "      <script>\n",
              "        const buttonEl =\n",
              "          document.querySelector('#df-facb5e05-b5dd-4936-b1cb-a99b6a491111 button.colab-df-convert');\n",
              "        buttonEl.style.display =\n",
              "          google.colab.kernel.accessAllowed ? 'block' : 'none';\n",
              "\n",
              "        async function convertToInteractive(key) {\n",
              "          const element = document.querySelector('#df-facb5e05-b5dd-4936-b1cb-a99b6a491111');\n",
              "          const dataTable =\n",
              "            await google.colab.kernel.invokeFunction('convertToInteractive',\n",
              "                                                     [key], {});\n",
              "          if (!dataTable) return;\n",
              "\n",
              "          const docLinkHtml = 'Like what you see? Visit the ' +\n",
              "            '<a target=\"_blank\" href=https://colab.research.google.com/notebooks/data_table.ipynb>data table notebook</a>'\n",
              "            + ' to learn more about interactive tables.';\n",
              "          element.innerHTML = '';\n",
              "          dataTable['output_type'] = 'display_data';\n",
              "          await google.colab.output.renderOutput(dataTable, element);\n",
              "          const docLink = document.createElement('div');\n",
              "          docLink.innerHTML = docLinkHtml;\n",
              "          element.appendChild(docLink);\n",
              "        }\n",
              "      </script>\n",
              "    </div>\n",
              "  </div>\n",
              "  "
            ]
          },
          "metadata": {},
          "execution_count": 12
        }
      ]
    },
    {
      "cell_type": "markdown",
      "source": [
        "Before we dive into the model creation a split of the data into a training and a test set is needed. We are going to split the data into a 80 % training and a 20 % test set. Also we are going to stratify the dataset based on our target variable \"DEATH_EVENT\" as this is the safest option regarding the power of our predictions. "
      ],
      "metadata": {
        "id": "REjwl_-Nz_Ha"
      }
    },
    {
      "cell_type": "code",
      "source": [
        "train_df, test_df = train_test_split(data, test_size = 0.2, random_state = 42, stratify = data[\"DEATH_EVENT\"])\n",
        "\n",
        "X_train = train_df[train_df.columns[0:-1]]\n",
        "y_train = train_df['DEATH_EVENT']\n",
        "\n",
        "X_test = test_df[test_df.columns[0:-1]]\n",
        "y_test = test_df['DEATH_EVENT']"
      ],
      "metadata": {
        "id": "QKCEqn6Y0J99"
      },
      "execution_count": null,
      "outputs": []
    },
    {
      "cell_type": "markdown",
      "source": [
        "As our data is now cleaned up and split into a training and test set we can start building our prediction models. "
      ],
      "metadata": {
        "id": "MhkLTJhJ1lHc"
      }
    },
    {
      "cell_type": "markdown",
      "source": [
        "# Model creation"
      ],
      "metadata": {
        "id": "hSb4y-hSzODM"
      }
    },
    {
      "cell_type": "markdown",
      "source": [
        "## Logistic regression model"
      ],
      "metadata": {
        "id": "OvUBw5f6zxO4"
      }
    },
    {
      "cell_type": "markdown",
      "source": [
        "### Building the logistic regression model"
      ],
      "metadata": {
        "id": "e2thesVR0RaI"
      }
    },
    {
      "cell_type": "markdown",
      "source": [
        "This project is following the logic to go from the easiest to the most complex model. Therefore we are starting with the logistic regression model. "
      ],
      "metadata": {
        "id": "xQJ8XOxEG8o4"
      }
    },
    {
      "cell_type": "code",
      "source": [
        "from sklearn.linear_model import LogisticRegression #importing the model\n",
        "model = LogisticRegression(random_state = 42) #creating the model\n",
        "\n",
        "model.fit(X_train, y_train)#fitting the model on the training data\n",
        "\n",
        "y_pred = model.predict(X_test) # predicting y-values based on X test set\n",
        "\n",
        "from sklearn.metrics import accuracy_score #importing the accuracy score from sklearn\n",
        "\n",
        "print(f\"The accuracy score of the model is {accuracy_score(y_test, y_pred)}\")\n"
      ],
      "metadata": {
        "colab": {
          "base_uri": "https://localhost:8080/"
        },
        "id": "Cx0xDHcSHKww",
        "outputId": "26e1f8a4-441c-4f68-966a-ef7f1409c264"
      },
      "execution_count": null,
      "outputs": [
        {
          "output_type": "stream",
          "name": "stdout",
          "text": [
            "The accuracy score of the model is 0.6666666666666666\n"
          ]
        }
      ]
    },
    {
      "cell_type": "markdown",
      "source": [
        "From this first approach we can see that the accuracy of the logistic regression model is 66 %. However, we should also calculate the cross validation score to achieve a more robust result."
      ],
      "metadata": {
        "id": "YkJyKbZzKnAm"
      }
    },
    {
      "cell_type": "code",
      "source": [
        "from sklearn.model_selection import cross_val_score #importing cross val score \n",
        "\n",
        "scores = pd.Series(cross_val_score(model, X_train, y_train, cv=10)) # we are performing 10 fold cross validation\n",
        "print(f\"We can see that the score of the model ranges between a minimun of {scores.min()} and a maximum of {scores.max()}\")\n",
        "print(f\"On average we could achive a score of {scores.mean()}\")"
      ],
      "metadata": {
        "colab": {
          "base_uri": "https://localhost:8080/"
        },
        "id": "ETxcp_3kLDd-",
        "outputId": "4e6e2f2f-1aa7-40a7-9a3d-ab262ccb3ae1"
      },
      "execution_count": null,
      "outputs": [
        {
          "output_type": "stream",
          "name": "stdout",
          "text": [
            "We can see that the score of the model ranges between a minimun of 0.6521739130434783 and a maximum of 0.8333333333333334\n",
            "On average we could achive a score of 0.7277173913043479\n"
          ]
        }
      ]
    },
    {
      "cell_type": "markdown",
      "source": [
        "The cross validation score resulted in a mean accuracy of 73 % which is not bad for such a simple model. However, we can try to improve the logistic regression model by performing hyperparameter tuning. We are going to use the grid search approach to improve the hyperparameters of the logistic regresion model. Here we are using three fold cross validation. As we are fitting 4800 logistic regression models this can be computational intensive and therefore require some time. "
      ],
      "metadata": {
        "id": "FXp976mPM35x"
      }
    },
    {
      "cell_type": "code",
      "source": [
        "#Define the hyperparameter grid to search over\n",
        "param_grid = [    \n",
        "    {'penalty' : ['l1', 'l2', 'elasticnet', 'none'],\n",
        "    'C' : np.logspace(-4, 4, 20),\n",
        "    'solver' : ['lbfgs','newton-cg','liblinear','sag','saga'],\n",
        "    'max_iter' : [100, 1000,2500, 5000]\n",
        "    }\n",
        "]\n",
        "\n",
        "from sklearn.model_selection import GridSearchCV\n",
        "\n",
        "# Define the grid search object\n",
        "# Fit the grid search object to the training data\n",
        "clf = GridSearchCV(model, param_grid = param_grid, cv = 3, verbose=True, n_jobs=-1).fit(X_train, y_train) #we do 3 cross validations as this is already computiational power intensive\n",
        "\n",
        "# Print the best hyperparameters found by grid search\n",
        "print(\"Best hyperparameters: \", clf.best_estimator_)\n",
        "\n",
        "\n"
      ],
      "metadata": {
        "colab": {
          "base_uri": "https://localhost:8080/"
        },
        "id": "Jb0e7oDUeMfD",
        "outputId": "1710e7e1-903b-48ec-815a-54ffed6fcded"
      },
      "execution_count": null,
      "outputs": [
        {
          "output_type": "stream",
          "name": "stdout",
          "text": [
            "Fitting 3 folds for each of 1600 candidates, totalling 4800 fits\n",
            "Best hyperparameters:  LogisticRegression(C=0.615848211066026, max_iter=1000, penalty='l1',\n",
            "                   solver='liblinear')\n"
          ]
        },
        {
          "output_type": "stream",
          "name": "stderr",
          "text": [
            "/usr/local/lib/python3.9/dist-packages/sklearn/model_selection/_validation.py:378: FitFailedWarning: \n",
            "2160 fits failed out of a total of 4800.\n",
            "The score on these train-test partitions for these parameters will be set to nan.\n",
            "If these failures are not expected, you can try to debug them by setting error_score='raise'.\n",
            "\n",
            "Below are more details about the failures:\n",
            "--------------------------------------------------------------------------------\n",
            "240 fits failed with the following error:\n",
            "Traceback (most recent call last):\n",
            "  File \"/usr/local/lib/python3.9/dist-packages/sklearn/model_selection/_validation.py\", line 686, in _fit_and_score\n",
            "    estimator.fit(X_train, y_train, **fit_params)\n",
            "  File \"/usr/local/lib/python3.9/dist-packages/sklearn/linear_model/_logistic.py\", line 1162, in fit\n",
            "    solver = _check_solver(self.solver, self.penalty, self.dual)\n",
            "  File \"/usr/local/lib/python3.9/dist-packages/sklearn/linear_model/_logistic.py\", line 54, in _check_solver\n",
            "    raise ValueError(\n",
            "ValueError: Solver lbfgs supports only 'l2' or 'none' penalties, got l1 penalty.\n",
            "\n",
            "--------------------------------------------------------------------------------\n",
            "240 fits failed with the following error:\n",
            "Traceback (most recent call last):\n",
            "  File \"/usr/local/lib/python3.9/dist-packages/sklearn/model_selection/_validation.py\", line 686, in _fit_and_score\n",
            "    estimator.fit(X_train, y_train, **fit_params)\n",
            "  File \"/usr/local/lib/python3.9/dist-packages/sklearn/linear_model/_logistic.py\", line 1162, in fit\n",
            "    solver = _check_solver(self.solver, self.penalty, self.dual)\n",
            "  File \"/usr/local/lib/python3.9/dist-packages/sklearn/linear_model/_logistic.py\", line 54, in _check_solver\n",
            "    raise ValueError(\n",
            "ValueError: Solver newton-cg supports only 'l2' or 'none' penalties, got l1 penalty.\n",
            "\n",
            "--------------------------------------------------------------------------------\n",
            "240 fits failed with the following error:\n",
            "Traceback (most recent call last):\n",
            "  File \"/usr/local/lib/python3.9/dist-packages/sklearn/model_selection/_validation.py\", line 686, in _fit_and_score\n",
            "    estimator.fit(X_train, y_train, **fit_params)\n",
            "  File \"/usr/local/lib/python3.9/dist-packages/sklearn/linear_model/_logistic.py\", line 1162, in fit\n",
            "    solver = _check_solver(self.solver, self.penalty, self.dual)\n",
            "  File \"/usr/local/lib/python3.9/dist-packages/sklearn/linear_model/_logistic.py\", line 54, in _check_solver\n",
            "    raise ValueError(\n",
            "ValueError: Solver sag supports only 'l2' or 'none' penalties, got l1 penalty.\n",
            "\n",
            "--------------------------------------------------------------------------------\n",
            "240 fits failed with the following error:\n",
            "Traceback (most recent call last):\n",
            "  File \"/usr/local/lib/python3.9/dist-packages/sklearn/model_selection/_validation.py\", line 686, in _fit_and_score\n",
            "    estimator.fit(X_train, y_train, **fit_params)\n",
            "  File \"/usr/local/lib/python3.9/dist-packages/sklearn/linear_model/_logistic.py\", line 1162, in fit\n",
            "    solver = _check_solver(self.solver, self.penalty, self.dual)\n",
            "  File \"/usr/local/lib/python3.9/dist-packages/sklearn/linear_model/_logistic.py\", line 54, in _check_solver\n",
            "    raise ValueError(\n",
            "ValueError: Solver lbfgs supports only 'l2' or 'none' penalties, got elasticnet penalty.\n",
            "\n",
            "--------------------------------------------------------------------------------\n",
            "240 fits failed with the following error:\n",
            "Traceback (most recent call last):\n",
            "  File \"/usr/local/lib/python3.9/dist-packages/sklearn/model_selection/_validation.py\", line 686, in _fit_and_score\n",
            "    estimator.fit(X_train, y_train, **fit_params)\n",
            "  File \"/usr/local/lib/python3.9/dist-packages/sklearn/linear_model/_logistic.py\", line 1162, in fit\n",
            "    solver = _check_solver(self.solver, self.penalty, self.dual)\n",
            "  File \"/usr/local/lib/python3.9/dist-packages/sklearn/linear_model/_logistic.py\", line 54, in _check_solver\n",
            "    raise ValueError(\n",
            "ValueError: Solver newton-cg supports only 'l2' or 'none' penalties, got elasticnet penalty.\n",
            "\n",
            "--------------------------------------------------------------------------------\n",
            "240 fits failed with the following error:\n",
            "Traceback (most recent call last):\n",
            "  File \"/usr/local/lib/python3.9/dist-packages/sklearn/model_selection/_validation.py\", line 686, in _fit_and_score\n",
            "    estimator.fit(X_train, y_train, **fit_params)\n",
            "  File \"/usr/local/lib/python3.9/dist-packages/sklearn/linear_model/_logistic.py\", line 1162, in fit\n",
            "    solver = _check_solver(self.solver, self.penalty, self.dual)\n",
            "  File \"/usr/local/lib/python3.9/dist-packages/sklearn/linear_model/_logistic.py\", line 64, in _check_solver\n",
            "    raise ValueError(\n",
            "ValueError: Only 'saga' solver supports elasticnet penalty, got solver=liblinear.\n",
            "\n",
            "--------------------------------------------------------------------------------\n",
            "240 fits failed with the following error:\n",
            "Traceback (most recent call last):\n",
            "  File \"/usr/local/lib/python3.9/dist-packages/sklearn/model_selection/_validation.py\", line 686, in _fit_and_score\n",
            "    estimator.fit(X_train, y_train, **fit_params)\n",
            "  File \"/usr/local/lib/python3.9/dist-packages/sklearn/linear_model/_logistic.py\", line 1162, in fit\n",
            "    solver = _check_solver(self.solver, self.penalty, self.dual)\n",
            "  File \"/usr/local/lib/python3.9/dist-packages/sklearn/linear_model/_logistic.py\", line 54, in _check_solver\n",
            "    raise ValueError(\n",
            "ValueError: Solver sag supports only 'l2' or 'none' penalties, got elasticnet penalty.\n",
            "\n",
            "--------------------------------------------------------------------------------\n",
            "240 fits failed with the following error:\n",
            "Traceback (most recent call last):\n",
            "  File \"/usr/local/lib/python3.9/dist-packages/sklearn/model_selection/_validation.py\", line 686, in _fit_and_score\n",
            "    estimator.fit(X_train, y_train, **fit_params)\n",
            "  File \"/usr/local/lib/python3.9/dist-packages/sklearn/linear_model/_logistic.py\", line 1291, in fit\n",
            "    fold_coefs_ = Parallel(n_jobs=self.n_jobs, verbose=self.verbose, prefer=prefer)(\n",
            "  File \"/usr/local/lib/python3.9/dist-packages/sklearn/utils/parallel.py\", line 63, in __call__\n",
            "    return super().__call__(iterable_with_config)\n",
            "  File \"/usr/local/lib/python3.9/dist-packages/joblib/parallel.py\", line 1085, in __call__\n",
            "    if self.dispatch_one_batch(iterator):\n",
            "  File \"/usr/local/lib/python3.9/dist-packages/joblib/parallel.py\", line 901, in dispatch_one_batch\n",
            "    self._dispatch(tasks)\n",
            "  File \"/usr/local/lib/python3.9/dist-packages/joblib/parallel.py\", line 819, in _dispatch\n",
            "    job = self._backend.apply_async(batch, callback=cb)\n",
            "  File \"/usr/local/lib/python3.9/dist-packages/joblib/_parallel_backends.py\", line 208, in apply_async\n",
            "    result = ImmediateResult(func)\n",
            "  File \"/usr/local/lib/python3.9/dist-packages/joblib/_parallel_backends.py\", line 597, in __init__\n",
            "    self.results = batch()\n",
            "  File \"/usr/local/lib/python3.9/dist-packages/joblib/parallel.py\", line 288, in __call__\n",
            "    return [func(*args, **kwargs)\n",
            "  File \"/usr/local/lib/python3.9/dist-packages/joblib/parallel.py\", line 288, in <listcomp>\n",
            "    return [func(*args, **kwargs)\n",
            "  File \"/usr/local/lib/python3.9/dist-packages/sklearn/utils/parallel.py\", line 123, in __call__\n",
            "    return self.function(*args, **kwargs)\n",
            "  File \"/usr/local/lib/python3.9/dist-packages/sklearn/linear_model/_logistic.py\", line 521, in _logistic_regression_path\n",
            "    alpha = (1.0 / C) * (1 - l1_ratio)\n",
            "TypeError: unsupported operand type(s) for -: 'int' and 'NoneType'\n",
            "\n",
            "--------------------------------------------------------------------------------\n",
            "240 fits failed with the following error:\n",
            "Traceback (most recent call last):\n",
            "  File \"/usr/local/lib/python3.9/dist-packages/sklearn/model_selection/_validation.py\", line 686, in _fit_and_score\n",
            "    estimator.fit(X_train, y_train, **fit_params)\n",
            "  File \"/usr/local/lib/python3.9/dist-packages/sklearn/linear_model/_logistic.py\", line 1162, in fit\n",
            "    solver = _check_solver(self.solver, self.penalty, self.dual)\n",
            "  File \"/usr/local/lib/python3.9/dist-packages/sklearn/linear_model/_logistic.py\", line 71, in _check_solver\n",
            "    raise ValueError(\"penalty='none' is not supported for the liblinear solver\")\n",
            "ValueError: penalty='none' is not supported for the liblinear solver\n",
            "\n",
            "  warnings.warn(some_fits_failed_message, FitFailedWarning)\n",
            "/usr/local/lib/python3.9/dist-packages/sklearn/model_selection/_search.py:952: UserWarning: One or more of the test scores are non-finite: [       nan        nan 0.6778481  ...        nan 0.66524262 0.6778481 ]\n",
            "  warnings.warn(\n"
          ]
        }
      ]
    },
    {
      "cell_type": "markdown",
      "source": [
        "We can see that the model is throwing some errors as not every of those hyperparameters is compatible with everyone. However, we could retrieve the optimal hyperparameters for the logistic regression model. They are the following: "
      ],
      "metadata": {
        "id": "i9OmbLP8cWpq"
      }
    },
    {
      "cell_type": "code",
      "source": [
        "clf.best_params_"
      ],
      "metadata": {
        "colab": {
          "base_uri": "https://localhost:8080/"
        },
        "id": "iraJ6J4tcyRl",
        "outputId": "b79b2a5e-182d-41d9-a205-21505b8711d5"
      },
      "execution_count": null,
      "outputs": [
        {
          "output_type": "execute_result",
          "data": {
            "text/plain": [
              "{'C': 0.615848211066026,\n",
              " 'max_iter': 1000,\n",
              " 'penalty': 'l1',\n",
              " 'solver': 'liblinear'}"
            ]
          },
          "metadata": {},
          "execution_count": 17
        }
      ]
    },
    {
      "cell_type": "code",
      "source": [
        "# Make predictions using the best model found by grid search\n",
        "y_pred = clf.predict(X_test)\n",
        "\n",
        "# Compute and print the accuracy score\n",
        "accuracy = accuracy_score(y_test, y_pred)\n",
        "print(f\"Accuracy score: {accuracy:.4f}\")"
      ],
      "metadata": {
        "colab": {
          "base_uri": "https://localhost:8080/"
        },
        "id": "5tSb-j3tgrxX",
        "outputId": "01f760ef-683a-46d5-88e8-63efce3271dd"
      },
      "execution_count": null,
      "outputs": [
        {
          "output_type": "stream",
          "name": "stdout",
          "text": [
            "Accuracy score: 0.6833\n"
          ]
        }
      ]
    },
    {
      "cell_type": "markdown",
      "source": [
        "We can see that we were able to improve the accuracy of our logistic regression model through hyperparameter tuning compared with the average accuracy score without tuning. Now we can fit a new, improved logistic regression model."
      ],
      "metadata": {
        "id": "n70Tv5QYhp2w"
      }
    },
    {
      "cell_type": "code",
      "source": [
        "model_hyp = LogisticRegression(C = clf.best_params_['C'],\n",
        "                           max_iter = clf.best_params_['max_iter'],\n",
        "                           penalty = clf.best_params_['penalty'],\n",
        "                           solver = clf.best_params_['solver'],\n",
        "                           random_state = 42)\n",
        "\n",
        "model_hyp.fit(X_train, y_train)#fitting the model on the training data\n",
        "\n",
        "y_pred_hyp = model_hyp.predict(X_test) # predicting y-values based on X test set\n",
        "\n",
        "scores_hyp = pd.Series(cross_val_score(model_hyp, X_train, y_train, cv=10)) # we are performing 10 fold cross validation\n",
        "print(f\"We can see that the score of the model ranges between a minimun of {scores_hyp.min()} and a maximum of {scores_hyp.max()}\")\n",
        "print(f\"On average we could achive a score of {scores_hyp.mean()}\")"
      ],
      "metadata": {
        "colab": {
          "base_uri": "https://localhost:8080/"
        },
        "id": "VkC6kmVSiAYt",
        "outputId": "490b7575-6330-4e97-d7e6-16157f51687f"
      },
      "execution_count": null,
      "outputs": [
        {
          "output_type": "stream",
          "name": "stdout",
          "text": [
            "We can see that the score of the model ranges between a minimun of 0.7083333333333334 and a maximum of 0.8333333333333334\n",
            "On average we could achive a score of 0.7489130434782608\n"
          ]
        }
      ]
    },
    {
      "cell_type": "markdown",
      "source": [
        "### Evaluating the logistic regression model"
      ],
      "metadata": {
        "id": "gGcqIrMp0Xae"
      }
    },
    {
      "cell_type": "markdown",
      "source": [
        "First of all we can compare the accuracy scores from the untuned and the tuned model with a boxplot."
      ],
      "metadata": {
        "id": "pnMv0MpukxZV"
      }
    },
    {
      "cell_type": "code",
      "source": [
        "fig, ax = plt.subplots()\n",
        "ax.boxplot([scores, scores_hyp], labels=['Original', 'Hyperparameters'], widths=0.5, patch_artist=True, boxprops=dict(facecolor=\"lightblue\"))\n",
        "ax.set_title(\"Cross-validation scores\")\n",
        "ax.set_xlabel(\"Logistic regression\")\n",
        "ax.set_ylabel(\"Accuracy\")\n",
        "plt.show()"
      ],
      "metadata": {
        "colab": {
          "base_uri": "https://localhost:8080/",
          "height": 295
        },
        "id": "wKxyBZdRk8z6",
        "outputId": "2751d827-392a-493d-cfde-76931d2bf12a"
      },
      "execution_count": null,
      "outputs": [
        {
          "output_type": "display_data",
          "data": {
            "text/plain": [
              "<Figure size 432x288 with 1 Axes>"
            ],
            "image/png": "[encoded data removed]"
          },
          "metadata": {
            "needs_background": "light"
          }
        }
      ]
    },
    {
      "cell_type": "markdown",
      "source": [
        "Now we should also plot the ROC-curve."
      ],
      "metadata": {
        "id": "Ot1OIREjlxaR"
      }
    },
    {
      "cell_type": "code",
      "source": [
        "from sklearn.metrics import roc_curve, auc\n",
        "\n",
        "# Get predicted probabilities of the positive class (class 1)\n",
        "y_prob = model.predict_proba(X_test)[:, 1]\n",
        "y_prob_hyp = model_hyp.predict_proba(X_test)[:, 1]\n",
        "\n",
        "# Calculate the false positive rate, true positive rate, and thresholds for the ROC curve\n",
        "fpr, tpr, thresholds = roc_curve(y_test, y_prob)\n",
        "fpr_hyp, tpr_hyp, thresholds = roc_curve(y_test, y_prob_hyp)\n",
        "\n",
        "# Calculate the area under the ROC curve\n",
        "roc_auc = auc(fpr, tpr)\n",
        "roc_auc_hyp = auc(fpr_hyp, tpr_hyp)\n",
        "\n",
        "# Plot the ROC curve\n",
        "plt.plot(fpr, tpr, color='darkorange', lw=2, label='ROC curve original (AUC = %0.2f)' % roc_auc)\n",
        "plt.plot(fpr_hyp, tpr_hyp, color='darkgreen', lw=2, label='ROC curve hyperparameter (AUC = %0.2f)' % roc_auc_hyp)\n",
        "plt.plot([0, 1], [0, 1], color='navy', lw=2, linestyle='--')\n",
        "plt.xlabel('False Positive Rate')\n",
        "plt.ylabel('True Positive Rate')\n",
        "plt.title('Receiver Operating Characteristic (ROC) Curve')\n",
        "plt.legend(loc=\"lower right\")\n",
        "plt.show()"
      ],
      "metadata": {
        "colab": {
          "base_uri": "https://localhost:8080/",
          "height": 295
        },
        "id": "WQDYTyyLl1PG",
        "outputId": "63e2e718-19c7-4a20-de9b-b84438fda50e"
      },
      "execution_count": null,
      "outputs": [
        {
          "output_type": "display_data",
          "data": {
            "text/plain": [
              "<Figure size 432x288 with 1 Axes>"
            ],
            "image/png": "[encoded data removed]"
          },
          "metadata": {
            "needs_background": "light"
          }
        }
      ]
    },
    {
      "cell_type": "markdown",
      "source": [
        "Now we can also have a look at the confusion matrix of the model."
      ],
      "metadata": {
        "id": "LjX-gtpkmN9-"
      }
    },
    {
      "cell_type": "code",
      "source": [
        "from sklearn.metrics import confusion_matrix\n",
        "\n",
        "# Create the confusion matrices\n",
        "cf_matrix = confusion_matrix(y_test, y_pred)\n",
        "cf_matrix_hyp = confusion_matrix(y_test, y_pred_hyp)\n",
        "\n",
        "# Plot the confusion matrices\n",
        "plt.subplot(1, 2, 1)\n",
        "sns.heatmap(cf_matrix/np.sum(cf_matrix), annot=True, fmt='.2%', cmap='Greens', xticklabels=class_labels, yticklabels=class_labels)\n",
        "plt.title('Confusion matrix without hyperparameters tuning')\n",
        "plt.xlabel('Predicted label')\n",
        "plt.ylabel('Actual label')\n",
        "\n",
        "plt.subplot(1, 2, 2)\n",
        "sns.heatmap(cf_matrix_hyp/np.sum(cf_matrix_hyp), annot=True, fmt='.2%', cmap='Greens', xticklabels=class_labels, yticklabels=class_labels)\n",
        "plt.title('Confusion matrix with hyperparameters tuning')\n",
        "plt.xlabel('Predicted label')\n",
        "plt.ylabel('Actual label')\n",
        "\n",
        "plt.show()"
      ],
      "metadata": {
        "colab": {
          "base_uri": "https://localhost:8080/",
          "height": 501
        },
        "id": "s5MBOe8nmSDx",
        "outputId": "c016364f-553a-4f4e-cbf0-6804bb3e6255"
      },
      "execution_count": 42,
      "outputs": [
        {
          "output_type": "error",
          "ename": "NameError",
          "evalue": "ignored",
          "traceback": [
            "\u001b[0;31m---------------------------------------------------------------------------\u001b[0m",
            "\u001b[0;31mNameError\u001b[0m                                 Traceback (most recent call last)",
            "\u001b[0;32m<ipython-input-42-4aff8eb3c7c5>\u001b[0m in \u001b[0;36m<module>\u001b[0;34m\u001b[0m\n\u001b[1;32m      7\u001b[0m \u001b[0;31m# Plot the confusion matrices\u001b[0m\u001b[0;34m\u001b[0m\u001b[0;34m\u001b[0m\u001b[0m\n\u001b[1;32m      8\u001b[0m \u001b[0mplt\u001b[0m\u001b[0;34m.\u001b[0m\u001b[0msubplot\u001b[0m\u001b[0;34m(\u001b[0m\u001b[0;36m1\u001b[0m\u001b[0;34m,\u001b[0m \u001b[0;36m2\u001b[0m\u001b[0;34m,\u001b[0m \u001b[0;36m1\u001b[0m\u001b[0;34m)\u001b[0m\u001b[0;34m\u001b[0m\u001b[0;34m\u001b[0m\u001b[0m\n\u001b[0;32m----> 9\u001b[0;31m \u001b[0msns\u001b[0m\u001b[0;34m.\u001b[0m\u001b[0mheatmap\u001b[0m\u001b[0;34m(\u001b[0m\u001b[0mcf_matrix\u001b[0m\u001b[0;34m/\u001b[0m\u001b[0mnp\u001b[0m\u001b[0;34m.\u001b[0m\u001b[0msum\u001b[0m\u001b[0;34m(\u001b[0m\u001b[0mcf_matrix\u001b[0m\u001b[0;34m)\u001b[0m\u001b[0;34m,\u001b[0m \u001b[0mannot\u001b[0m\u001b[0;34m=\u001b[0m\u001b[0;32mTrue\u001b[0m\u001b[0;34m,\u001b[0m \u001b[0mfmt\u001b[0m\u001b[0;34m=\u001b[0m\u001b[0;34m'.2%'\u001b[0m\u001b[0;34m,\u001b[0m \u001b[0mcmap\u001b[0m\u001b[0;34m=\u001b[0m\u001b[0;34m'Greens'\u001b[0m\u001b[0;34m,\u001b[0m \u001b[0mxticklabels\u001b[0m\u001b[0;34m=\u001b[0m\u001b[0mclass_labels\u001b[0m\u001b[0;34m,\u001b[0m \u001b[0myticklabels\u001b[0m\u001b[0;34m=\u001b[0m\u001b[0mclass_labels\u001b[0m\u001b[0;34m)\u001b[0m\u001b[0;34m\u001b[0m\u001b[0;34m\u001b[0m\u001b[0m\n\u001b[0m\u001b[1;32m     10\u001b[0m \u001b[0mplt\u001b[0m\u001b[0;34m.\u001b[0m\u001b[0mtitle\u001b[0m\u001b[0;34m(\u001b[0m\u001b[0;34m'Confusion matrix without hyperparameters tuning'\u001b[0m\u001b[0;34m)\u001b[0m\u001b[0;34m\u001b[0m\u001b[0;34m\u001b[0m\u001b[0m\n\u001b[1;32m     11\u001b[0m \u001b[0mplt\u001b[0m\u001b[0;34m.\u001b[0m\u001b[0mxlabel\u001b[0m\u001b[0;34m(\u001b[0m\u001b[0;34m'Predicted label'\u001b[0m\u001b[0;34m)\u001b[0m\u001b[0;34m\u001b[0m\u001b[0;34m\u001b[0m\u001b[0m\n",
            "\u001b[0;31mNameError\u001b[0m: name 'class_labels' is not defined"
          ]
        },
        {
          "output_type": "display_data",
          "data": {
            "text/plain": [
              "<Figure size 432x288 with 1 Axes>"
            ],
            "image/png": "[encoded data removed]"
          },
          "metadata": {
            "needs_background": "light"
          }
        }
      ]
    },
    {
      "cell_type": "code",
      "source": [],
      "metadata": {
        "id": "BC4JVL29nRJG"
      },
      "execution_count": null,
      "outputs": []
    },
    {
      "cell_type": "code",
      "source": [],
      "metadata": {
        "id": "K5slqZTSnS6U"
      },
      "execution_count": null,
      "outputs": []
    },
    {
      "cell_type": "markdown",
      "source": [
        "## Naive bayes classification model"
      ],
      "metadata": {
        "id": "d1e97adjz3Sl"
      }
    },
    {
      "cell_type": "markdown",
      "source": [
        "### Building the naive bayes classification model"
      ],
      "metadata": {
        "id": "BdPsh2ys0gFz"
      }
    },
    {
      "cell_type": "markdown",
      "source": [
        "### Evaluating the naive bayes classification model"
      ],
      "metadata": {
        "id": "l0RAMdOd0lwa"
      }
    },
    {
      "cell_type": "markdown",
      "source": [
        "## Decision tree classification model"
      ],
      "metadata": {
        "id": "ylue48Rzz9MB"
      }
    },
    {
      "cell_type": "markdown",
      "source": [
        "### Building the decision tree classification model"
      ],
      "metadata": {
        "id": "Amm8ZQsn0ybX"
      }
    },
    {
      "cell_type": "markdown",
      "source": [
        "### Evaluating the dicision tree classification model"
      ],
      "metadata": {
        "id": "wQaQXmIB04c0"
      }
    },
    {
      "cell_type": "markdown",
      "source": [
        "# Results"
      ],
      "metadata": {
        "id": "3MT2Zb9q0B5c"
      }
    },
    {
      "cell_type": "markdown",
      "source": [
        "# References"
      ],
      "metadata": {
        "id": "tIMRYWpu2Vh3"
      }
    },
    {
      "cell_type": "markdown",
      "source": [
        "Abebe, T. B., Gebreyohannes, E. A., Tefera, Y. G., Bhagavathula, A. S., Erku, D. A., Belachew, S. A., Gebresillassie, B. M., & Abegaz, T. M. (2018). The prognosis of heart failure patients: Does sodium level play a significant role? PloS One, 13(11), e0207242. https://doi.org/10.1371/journal.pone.0207242\n",
        "\n",
        "\n",
        "Anemia. (2022, February 11). Mayo Clinic. https://www.mayoclinic.org/diseases-conditions/anemia/symptoms-causes/syc-20351360\n",
        "\n",
        "\n",
        "Cardiovascular disease. (n.d.). Nhs.uk. Retrieved November 4, 2022, from https://www.nhs.uk/conditions/cardiovascular-disease/\n",
        "\n",
        "\n",
        "CDC. (2022a, July 26). Diabetes and your heart. Centers for Disease Control and Prevention. https://www.cdc.gov/diabetes/library/features/diabetes-and-heart.html\n",
        "\n",
        "\n",
        "CDC. (2022b, October 18). High blood pressure symptoms and causes. Centers for Disease Control and Prevention. https://www.cdc.gov/bloodpressure/about.htm\n",
        "\n",
        "\n",
        "Chicco, D., & Jurman, G. (2020). Machine learning can predict survival of patients with heart failure from serum creatinine and ejection fraction alone. BMC Medical Informatics and Decision Making, 20(1), 16. https://doi.org/10.1186/s12911-020-1023-5\n",
        "\n",
        "\n",
        "Creatine phosphokinase test. (n.d.). Mount Sinai Health System. Retrieved November 4, 2022, from https://www.mountsinai.org/health-library/tests/creatine-phosphokinase-test\n",
        "\n",
        "\n",
        "Creatinine tests. (2021, February 25). Mayoclinic.org. https://www.mayoclinic.org/tests-procedures/creatinine-test/about/pac-20384646\n",
        "\n",
        "\n",
        "Heart health and aging. (n.d.). National Institute on Aging. Retrieved November 4, 2022, from https://www.nia.nih.gov/health/heart-health-and-aging\n",
        "\n",
        "\n",
        "Jao, G. T., Filby, S., & Chang, P. P. (2016). Heart failure. In Cardiovascular Hemodynamics for the Clinician (pp. 200–211). John Wiley & Sons, Ltd.\n",
        "\n",
        "\n",
        "Lakier, J. B. (1992). Smoking and cardiovascular disease. The American Journal of Medicine, 93(1), S8–S12. https://doi.org/10.1016/0002-9343(92)90620-q\n",
        "\n",
        "\n",
        "Larxel. (2020). Heart Failure prediction [Data set], https://www.kaggle.com/datasets/andrewmvd/heart-failure-clinical-data.\n",
        "\n",
        "\n",
        "No title. (n.d.). Pennmedicine.org. Retrieved November 4, 2022, from https://www.pennmedicine.org/updates/blogs/heart-and-vascular-blog/2022/april/ejection-fraction-what-the-numbers-mean\n",
        "\n",
        "\n",
        "Sodium blood test. (n.d.). Medlineplus.gov. Retrieved November 4, 2022, from https://medlineplus.gov/lab-tests/sodium-blood-test/\n",
        "\n",
        "\n",
        "Strömberg, A., & Mårtensson, J. (2003). Gender differences in patients with heart failure. European Journal of Cardiovascular Nursing: Journal of the Working Group on "
      ],
      "metadata": {
        "id": "ivMm8GhL2aPW"
      }
    }
  ]
}